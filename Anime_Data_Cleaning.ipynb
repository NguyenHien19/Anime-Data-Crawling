{
  "nbformat": 4,
  "nbformat_minor": 0,
  "metadata": {
    "colab": {
      "provenance": []
    },
    "kernelspec": {
      "name": "python3",
      "display_name": "Python 3"
    },
    "language_info": {
      "name": "python"
    }
  },
  "cells": [
    {
      "cell_type": "code",
      "execution_count": null,
      "metadata": {
        "id": "LNbzy_ZbfJUj"
      },
      "outputs": [],
      "source": [
        "import pandas as pd\n",
        "import numpy as np\n",
        "import matplotlib.pyplot as plt\n",
        "import seaborn as sns"
      ]
    },
    {
      "cell_type": "code",
      "source": [
        "data = pd.read_json('anime.json', encoding='utf-8')"
      ],
      "metadata": {
        "id": "biy9fFxYidQL"
      },
      "execution_count": null,
      "outputs": []
    },
    {
      "cell_type": "code",
      "source": [
        "data.head()"
      ],
      "metadata": {
        "colab": {
          "base_uri": "https://localhost:8080/",
          "height": 527
        },
        "id": "--4lWBFIinLE",
        "outputId": "1bd878c6-1701-430c-8c77-c6f98cda29a9"
      },
      "execution_count": null,
      "outputs": [
        {
          "output_type": "execute_result",
          "data": {
            "text/plain": [
              "                                       name  \\\n",
              "0                            Dark Gathering   \n",
              "1                          Trò Chơi Nói Dối   \n",
              "2                           Horimiya: Piece   \n",
              "3                                    Temple   \n",
              "4  Tôi Có Thực Sự Là Người Mạnh Nhất Không?   \n",
              "\n",
              "                                         description  voting duration  \\\n",
              "0  \\nKeitarou, chàng trai có khả năng thu hút ma ...      95    01/25   \n",
              "1  \\nĐảo học viện, nơi các học sinh mở ra những t...      94    02/12   \n",
              "2  \\nChuyển thể những phần ở manga bị cắt trong T...      91    02/13   \n",
              "3  \\nĐúng vậy. Tôi sẽ trở thành một nhà sư! Không...      97    01/12   \n",
              "4  \\nMột thanh niên bị bắt nạt được tái sinh ở th...      89    02/12   \n",
              "\n",
              "               view                                    status  \\\n",
              "0   36,088 Lượt Xem   Phim đang chiếu/Cập Nhật Tập 01 VietSub   \n",
              "1  173,964 Lượt Xem   Phim đang chiếu/Cập Nhật Tập 02 VietSub   \n",
              "2  584,019 Lượt Xem   Phim đang chiếu/Cập Nhật Tập 02 VietSub   \n",
              "3   86,385 Lượt Xem   Phim đang chiếu/Cập Nhật Tập 01 VietSub   \n",
              "4  555,460 Lượt Xem   Phim đang chiếu/Cập Nhật Tập 02 VietSub   \n",
              "\n",
              "                                               genre          director  \\\n",
              "0          [Anime bộ, Shounen, Supernatural, Horror]   Hiroshi Ikehata   \n",
              "1  [Anime bộ, Sci-Fi, School, Romance, Psychologi...       Oono Satoru   \n",
              "2  [Anime bộ, Shounen, School, Romance, Slice of ...  Ishihama Masashi   \n",
              "3  [Anime bộ, Romance, Slice of Life, Harem, Ecch...      Koga Kazuomi   \n",
              "4  [Anime bộ, Shounen, Romance, Fantasy, Comedy, ...     Naoya Takashi   \n",
              "\n",
              "    country follower quality                         rating  \\\n",
              "0  Nhật Bản       34      HD   R - 17+ (bạo lực và tục tĩu)   \n",
              "1  Nhật Bản      222      HD  PG-13 - Teens 13 tuổi trở lên   \n",
              "2  Nhật Bản      497      HD  PG-13 - Teens 13 tuổi trở lên   \n",
              "3  Nhật Bản      139      HD  PG-13 - Teens 13 tuổi trở lên   \n",
              "4  Nhật Bản      643      HD  PG-13 - Teens 13 tuổi trở lên   \n",
              "\n",
              "                  studio         season  \n",
              "0                    OLM  Mùa Hạ - 2023  \n",
              "1              GEEK TOYS  Mùa Hạ - 2023  \n",
              "2            CloverWorks  Mùa Hạ - 2023  \n",
              "3                 Gekkou  Mùa Hạ - 2023  \n",
              "4   Staple Entertainment  Mùa Hạ - 2023  "
            ],
            "text/html": [
              "\n",
              "\n",
              "  <div id=\"df-f54e461b-91d4-4e6e-9cd9-c437f5974dd3\">\n",
              "    <div class=\"colab-df-container\">\n",
              "      <div>\n",
              "<style scoped>\n",
              "    .dataframe tbody tr th:only-of-type {\n",
              "        vertical-align: middle;\n",
              "    }\n",
              "\n",
              "    .dataframe tbody tr th {\n",
              "        vertical-align: top;\n",
              "    }\n",
              "\n",
              "    .dataframe thead th {\n",
              "        text-align: right;\n",
              "    }\n",
              "</style>\n",
              "<table border=\"1\" class=\"dataframe\">\n",
              "  <thead>\n",
              "    <tr style=\"text-align: right;\">\n",
              "      <th></th>\n",
              "      <th>name</th>\n",
              "      <th>description</th>\n",
              "      <th>voting</th>\n",
              "      <th>duration</th>\n",
              "      <th>view</th>\n",
              "      <th>status</th>\n",
              "      <th>genre</th>\n",
              "      <th>director</th>\n",
              "      <th>country</th>\n",
              "      <th>follower</th>\n",
              "      <th>quality</th>\n",
              "      <th>rating</th>\n",
              "      <th>studio</th>\n",
              "      <th>season</th>\n",
              "    </tr>\n",
              "  </thead>\n",
              "  <tbody>\n",
              "    <tr>\n",
              "      <th>0</th>\n",
              "      <td>Dark Gathering</td>\n",
              "      <td>\\nKeitarou, chàng trai có khả năng thu hút ma ...</td>\n",
              "      <td>95</td>\n",
              "      <td>01/25</td>\n",
              "      <td>36,088 Lượt Xem</td>\n",
              "      <td>Phim đang chiếu/Cập Nhật Tập 01 VietSub</td>\n",
              "      <td>[Anime bộ, Shounen, Supernatural, Horror]</td>\n",
              "      <td>Hiroshi Ikehata</td>\n",
              "      <td>Nhật Bản</td>\n",
              "      <td>34</td>\n",
              "      <td>HD</td>\n",
              "      <td>R - 17+ (bạo lực và tục tĩu)</td>\n",
              "      <td>OLM</td>\n",
              "      <td>Mùa Hạ - 2023</td>\n",
              "    </tr>\n",
              "    <tr>\n",
              "      <th>1</th>\n",
              "      <td>Trò Chơi Nói Dối</td>\n",
              "      <td>\\nĐảo học viện, nơi các học sinh mở ra những t...</td>\n",
              "      <td>94</td>\n",
              "      <td>02/12</td>\n",
              "      <td>173,964 Lượt Xem</td>\n",
              "      <td>Phim đang chiếu/Cập Nhật Tập 02 VietSub</td>\n",
              "      <td>[Anime bộ, Sci-Fi, School, Romance, Psychologi...</td>\n",
              "      <td>Oono Satoru</td>\n",
              "      <td>Nhật Bản</td>\n",
              "      <td>222</td>\n",
              "      <td>HD</td>\n",
              "      <td>PG-13 - Teens 13 tuổi trở lên</td>\n",
              "      <td>GEEK TOYS</td>\n",
              "      <td>Mùa Hạ - 2023</td>\n",
              "    </tr>\n",
              "    <tr>\n",
              "      <th>2</th>\n",
              "      <td>Horimiya: Piece</td>\n",
              "      <td>\\nChuyển thể những phần ở manga bị cắt trong T...</td>\n",
              "      <td>91</td>\n",
              "      <td>02/13</td>\n",
              "      <td>584,019 Lượt Xem</td>\n",
              "      <td>Phim đang chiếu/Cập Nhật Tập 02 VietSub</td>\n",
              "      <td>[Anime bộ, Shounen, School, Romance, Slice of ...</td>\n",
              "      <td>Ishihama Masashi</td>\n",
              "      <td>Nhật Bản</td>\n",
              "      <td>497</td>\n",
              "      <td>HD</td>\n",
              "      <td>PG-13 - Teens 13 tuổi trở lên</td>\n",
              "      <td>CloverWorks</td>\n",
              "      <td>Mùa Hạ - 2023</td>\n",
              "    </tr>\n",
              "    <tr>\n",
              "      <th>3</th>\n",
              "      <td>Temple</td>\n",
              "      <td>\\nĐúng vậy. Tôi sẽ trở thành một nhà sư! Không...</td>\n",
              "      <td>97</td>\n",
              "      <td>01/12</td>\n",
              "      <td>86,385 Lượt Xem</td>\n",
              "      <td>Phim đang chiếu/Cập Nhật Tập 01 VietSub</td>\n",
              "      <td>[Anime bộ, Romance, Slice of Life, Harem, Ecch...</td>\n",
              "      <td>Koga Kazuomi</td>\n",
              "      <td>Nhật Bản</td>\n",
              "      <td>139</td>\n",
              "      <td>HD</td>\n",
              "      <td>PG-13 - Teens 13 tuổi trở lên</td>\n",
              "      <td>Gekkou</td>\n",
              "      <td>Mùa Hạ - 2023</td>\n",
              "    </tr>\n",
              "    <tr>\n",
              "      <th>4</th>\n",
              "      <td>Tôi Có Thực Sự Là Người Mạnh Nhất Không?</td>\n",
              "      <td>\\nMột thanh niên bị bắt nạt được tái sinh ở th...</td>\n",
              "      <td>89</td>\n",
              "      <td>02/12</td>\n",
              "      <td>555,460 Lượt Xem</td>\n",
              "      <td>Phim đang chiếu/Cập Nhật Tập 02 VietSub</td>\n",
              "      <td>[Anime bộ, Shounen, Romance, Fantasy, Comedy, ...</td>\n",
              "      <td>Naoya Takashi</td>\n",
              "      <td>Nhật Bản</td>\n",
              "      <td>643</td>\n",
              "      <td>HD</td>\n",
              "      <td>PG-13 - Teens 13 tuổi trở lên</td>\n",
              "      <td>Staple Entertainment</td>\n",
              "      <td>Mùa Hạ - 2023</td>\n",
              "    </tr>\n",
              "  </tbody>\n",
              "</table>\n",
              "</div>\n",
              "      <button class=\"colab-df-convert\" onclick=\"convertToInteractive('df-f54e461b-91d4-4e6e-9cd9-c437f5974dd3')\"\n",
              "              title=\"Convert this dataframe to an interactive table.\"\n",
              "              style=\"display:none;\">\n",
              "\n",
              "  <svg xmlns=\"http://www.w3.org/2000/svg\" height=\"24px\"viewBox=\"0 0 24 24\"\n",
              "       width=\"24px\">\n",
              "    <path d=\"M0 0h24v24H0V0z\" fill=\"none\"/>\n",
              "    <path d=\"M18.56 5.44l.94 2.06.94-2.06 2.06-.94-2.06-.94-.94-2.06-.94 2.06-2.06.94zm-11 1L8.5 8.5l.94-2.06 2.06-.94-2.06-.94L8.5 2.5l-.94 2.06-2.06.94zm10 10l.94 2.06.94-2.06 2.06-.94-2.06-.94-.94-2.06-.94 2.06-2.06.94z\"/><path d=\"M17.41 7.96l-1.37-1.37c-.4-.4-.92-.59-1.43-.59-.52 0-1.04.2-1.43.59L10.3 9.45l-7.72 7.72c-.78.78-.78 2.05 0 2.83L4 21.41c.39.39.9.59 1.41.59.51 0 1.02-.2 1.41-.59l7.78-7.78 2.81-2.81c.8-.78.8-2.07 0-2.86zM5.41 20L4 18.59l7.72-7.72 1.47 1.35L5.41 20z\"/>\n",
              "  </svg>\n",
              "      </button>\n",
              "\n",
              "\n",
              "\n",
              "    <div id=\"df-a82dd381-ba04-4694-833c-4faa117c19c9\">\n",
              "      <button class=\"colab-df-quickchart\" onclick=\"quickchart('df-a82dd381-ba04-4694-833c-4faa117c19c9')\"\n",
              "              title=\"Suggest charts.\"\n",
              "              style=\"display:none;\">\n",
              "\n",
              "<svg xmlns=\"http://www.w3.org/2000/svg\" height=\"24px\"viewBox=\"0 0 24 24\"\n",
              "     width=\"24px\">\n",
              "    <g>\n",
              "        <path d=\"M19 3H5c-1.1 0-2 .9-2 2v14c0 1.1.9 2 2 2h14c1.1 0 2-.9 2-2V5c0-1.1-.9-2-2-2zM9 17H7v-7h2v7zm4 0h-2V7h2v10zm4 0h-2v-4h2v4z\"/>\n",
              "    </g>\n",
              "</svg>\n",
              "      </button>\n",
              "    </div>\n",
              "\n",
              "<style>\n",
              "  .colab-df-quickchart {\n",
              "    background-color: #E8F0FE;\n",
              "    border: none;\n",
              "    border-radius: 50%;\n",
              "    cursor: pointer;\n",
              "    display: none;\n",
              "    fill: #1967D2;\n",
              "    height: 32px;\n",
              "    padding: 0 0 0 0;\n",
              "    width: 32px;\n",
              "  }\n",
              "\n",
              "  .colab-df-quickchart:hover {\n",
              "    background-color: #E2EBFA;\n",
              "    box-shadow: 0px 1px 2px rgba(60, 64, 67, 0.3), 0px 1px 3px 1px rgba(60, 64, 67, 0.15);\n",
              "    fill: #174EA6;\n",
              "  }\n",
              "\n",
              "  [theme=dark] .colab-df-quickchart {\n",
              "    background-color: #3B4455;\n",
              "    fill: #D2E3FC;\n",
              "  }\n",
              "\n",
              "  [theme=dark] .colab-df-quickchart:hover {\n",
              "    background-color: #434B5C;\n",
              "    box-shadow: 0px 1px 3px 1px rgba(0, 0, 0, 0.15);\n",
              "    filter: drop-shadow(0px 1px 2px rgba(0, 0, 0, 0.3));\n",
              "    fill: #FFFFFF;\n",
              "  }\n",
              "</style>\n",
              "\n",
              "    <script>\n",
              "      async function quickchart(key) {\n",
              "        const containerElement = document.querySelector('#' + key);\n",
              "        const charts = await google.colab.kernel.invokeFunction(\n",
              "            'suggestCharts', [key], {});\n",
              "      }\n",
              "    </script>\n",
              "\n",
              "      <script>\n",
              "\n",
              "function displayQuickchartButton(domScope) {\n",
              "  let quickchartButtonEl =\n",
              "    domScope.querySelector('#df-a82dd381-ba04-4694-833c-4faa117c19c9 button.colab-df-quickchart');\n",
              "  quickchartButtonEl.style.display =\n",
              "    google.colab.kernel.accessAllowed ? 'block' : 'none';\n",
              "}\n",
              "\n",
              "        displayQuickchartButton(document);\n",
              "      </script>\n",
              "      <style>\n",
              "    .colab-df-container {\n",
              "      display:flex;\n",
              "      flex-wrap:wrap;\n",
              "      gap: 12px;\n",
              "    }\n",
              "\n",
              "    .colab-df-convert {\n",
              "      background-color: #E8F0FE;\n",
              "      border: none;\n",
              "      border-radius: 50%;\n",
              "      cursor: pointer;\n",
              "      display: none;\n",
              "      fill: #1967D2;\n",
              "      height: 32px;\n",
              "      padding: 0 0 0 0;\n",
              "      width: 32px;\n",
              "    }\n",
              "\n",
              "    .colab-df-convert:hover {\n",
              "      background-color: #E2EBFA;\n",
              "      box-shadow: 0px 1px 2px rgba(60, 64, 67, 0.3), 0px 1px 3px 1px rgba(60, 64, 67, 0.15);\n",
              "      fill: #174EA6;\n",
              "    }\n",
              "\n",
              "    [theme=dark] .colab-df-convert {\n",
              "      background-color: #3B4455;\n",
              "      fill: #D2E3FC;\n",
              "    }\n",
              "\n",
              "    [theme=dark] .colab-df-convert:hover {\n",
              "      background-color: #434B5C;\n",
              "      box-shadow: 0px 1px 3px 1px rgba(0, 0, 0, 0.15);\n",
              "      filter: drop-shadow(0px 1px 2px rgba(0, 0, 0, 0.3));\n",
              "      fill: #FFFFFF;\n",
              "    }\n",
              "  </style>\n",
              "\n",
              "      <script>\n",
              "        const buttonEl =\n",
              "          document.querySelector('#df-f54e461b-91d4-4e6e-9cd9-c437f5974dd3 button.colab-df-convert');\n",
              "        buttonEl.style.display =\n",
              "          google.colab.kernel.accessAllowed ? 'block' : 'none';\n",
              "\n",
              "        async function convertToInteractive(key) {\n",
              "          const element = document.querySelector('#df-f54e461b-91d4-4e6e-9cd9-c437f5974dd3');\n",
              "          const dataTable =\n",
              "            await google.colab.kernel.invokeFunction('convertToInteractive',\n",
              "                                                     [key], {});\n",
              "          if (!dataTable) return;\n",
              "\n",
              "          const docLinkHtml = 'Like what you see? Visit the ' +\n",
              "            '<a target=\"_blank\" href=https://colab.research.google.com/notebooks/data_table.ipynb>data table notebook</a>'\n",
              "            + ' to learn more about interactive tables.';\n",
              "          element.innerHTML = '';\n",
              "          dataTable['output_type'] = 'display_data';\n",
              "          await google.colab.output.renderOutput(dataTable, element);\n",
              "          const docLink = document.createElement('div');\n",
              "          docLink.innerHTML = docLinkHtml;\n",
              "          element.appendChild(docLink);\n",
              "        }\n",
              "      </script>\n",
              "    </div>\n",
              "  </div>\n"
            ]
          },
          "metadata": {},
          "execution_count": 43
        }
      ]
    },
    {
      "cell_type": "code",
      "source": [
        "data.info()"
      ],
      "metadata": {
        "colab": {
          "base_uri": "https://localhost:8080/"
        },
        "id": "QhtDDrvy3YlV",
        "outputId": "cb85c270-6367-4dc1-8a04-e08ec4a21c7c"
      },
      "execution_count": null,
      "outputs": [
        {
          "output_type": "stream",
          "name": "stdout",
          "text": [
            "<class 'pandas.core.frame.DataFrame'>\n",
            "RangeIndex: 4862 entries, 0 to 4861\n",
            "Data columns (total 14 columns):\n",
            " #   Column       Non-Null Count  Dtype \n",
            "---  ------       --------------  ----- \n",
            " 0   name         4862 non-null   object\n",
            " 1   description  4862 non-null   object\n",
            " 2   voting       4862 non-null   int64 \n",
            " 3   duration     4862 non-null   object\n",
            " 4   view         4862 non-null   object\n",
            " 5   status       4862 non-null   object\n",
            " 6   genre        4862 non-null   object\n",
            " 7   director     2585 non-null   object\n",
            " 8   country      4850 non-null   object\n",
            " 9   follower     4862 non-null   object\n",
            " 10  quality      4862 non-null   object\n",
            " 11  rating       4862 non-null   object\n",
            " 12  studio       4556 non-null   object\n",
            " 13  season       4556 non-null   object\n",
            "dtypes: int64(1), object(13)\n",
            "memory usage: 531.9+ KB\n"
          ]
        }
      ]
    },
    {
      "cell_type": "code",
      "source": [
        "data.isnull().sum()"
      ],
      "metadata": {
        "colab": {
          "base_uri": "https://localhost:8080/"
        },
        "id": "8ZL0fQdp3bQ6",
        "outputId": "cf33cb47-5100-4803-cd36-f0191074ce6a"
      },
      "execution_count": null,
      "outputs": [
        {
          "output_type": "execute_result",
          "data": {
            "text/plain": [
              "name              0\n",
              "description       0\n",
              "voting            0\n",
              "duration          0\n",
              "view              0\n",
              "status            0\n",
              "genre             0\n",
              "director       2277\n",
              "country          12\n",
              "follower          0\n",
              "quality           0\n",
              "rating            0\n",
              "studio          306\n",
              "season          306\n",
              "dtype: int64"
            ]
          },
          "metadata": {},
          "execution_count": 45
        }
      ]
    },
    {
      "cell_type": "markdown",
      "source": [
        "**Nhận xét tổng quan**<br>\n",
        "- Dữ liệu gồm 4862 bản ghi với 14 cột\n",
        "- Có 4 trường dữ liệu chứa giá trị null là **director, country, studio và season**\n",
        "- Có 1 trường dữ liệu thuộc dạng int, 13 trường còn lại thuộc dạng object"
      ],
      "metadata": {
        "id": "JJYzkbjmURGF"
      }
    },
    {
      "cell_type": "markdown",
      "source": [
        "# Data cleaning"
      ],
      "metadata": {
        "id": "7vT8MRqr3e3K"
      }
    },
    {
      "cell_type": "markdown",
      "source": [
        "Ta sẽ lần lượt xử lý từng trường dữ liệu có trong dataframe. <br>\n",
        "\n",
        "<b> Xem xét 1 bản ghi mẫu từ file json </b> <br>\n",
        "\n",
        "<i>\n",
        "    {\"name\": \"Fantasista Doll\",<br> \"description\": \"\\nGái và phép thuật.\\nCâu chuyện kể về những em búp bê moe cực độ, sử dụng lá bài để chiến đấu.\\n\",<br> \"voting\": \"77\",<br>\"duration\": \"12/12\", <br>\"view\": \"19,788 Lượt Xem\",<br> \"status\": \" Full\",<br> \"genre\": [\"Anime bộ\", \"Sci-Fi\", \"Fantasy\", \"Magic\"], <br>\"director\": \"Taniguchi Gorou\",<br> \"country\": \"Nhật Bản\", <br>\"follower\": \" 16\",<br> \"quality\": \"HD\",<br> \"rating\": \"PG-13 - Teens 13 tuổi trở lên\",<br> \"studio\": \" Hoods Entertainment, Production IMS\",<br> \"season\": \"Mùa Hạ - 2013\"},\n",
        "</i>\n",
        "\n",
        "---\n",
        "\n",
        "\n",
        "Có thể thấy 1 số vấn đề như thừa kí tự/khoảng trống. Ta sẽ xử lý chúng trước tiên. Sau đó xem xét đến <br> xử lý các giá trị null -> kiểu dữ liệu -> khác. <br>\n"
      ],
      "metadata": {
        "id": "eUEfpe8zPmfW"
      }
    },
    {
      "cell_type": "code",
      "source": [
        "data['description'] = data['description'].str.replace('\\n','')\n",
        "data['view'] = data['view'].str.replace(' Lượt Xem','')\n",
        "data['view'] = data['view'].str.replace(',','')\n",
        "data['status'] = data['status'].str.strip()\n",
        "data['follower'] = data['follower'].str.strip()\n",
        "data['studio'] = data['studio'].str.strip()"
      ],
      "metadata": {
        "id": "r9-8SltcUv63"
      },
      "execution_count": null,
      "outputs": []
    },
    {
      "cell_type": "code",
      "source": [
        "data.head()"
      ],
      "metadata": {
        "colab": {
          "base_uri": "https://localhost:8080/",
          "height": 527
        },
        "id": "vuYJzmvrGGJi",
        "outputId": "768683d4-ec39-434b-dfdc-4f0c415655cf"
      },
      "execution_count": null,
      "outputs": [
        {
          "output_type": "execute_result",
          "data": {
            "text/plain": [
              "                                       name  \\\n",
              "0                            Dark Gathering   \n",
              "1                          Trò Chơi Nói Dối   \n",
              "2                           Horimiya: Piece   \n",
              "3                                    Temple   \n",
              "4  Tôi Có Thực Sự Là Người Mạnh Nhất Không?   \n",
              "\n",
              "                                         description  voting duration    view  \\\n",
              "0  Keitarou, chàng trai có khả năng thu hút ma qu...      95    01/25   36088   \n",
              "1  Đảo học viện, nơi các học sinh mở ra những trậ...      94    02/12  173964   \n",
              "2  Chuyển thể những phần ở manga bị cắt trong TV ...      91    02/13  584019   \n",
              "3  Đúng vậy. Tôi sẽ trở thành một nhà sư! Không b...      97    01/12   86385   \n",
              "4  Một thanh niên bị bắt nạt được tái sinh ở thế ...      89    02/12  555460   \n",
              "\n",
              "                                    status  \\\n",
              "0  Phim đang chiếu/Cập Nhật Tập 01 VietSub   \n",
              "1  Phim đang chiếu/Cập Nhật Tập 02 VietSub   \n",
              "2  Phim đang chiếu/Cập Nhật Tập 02 VietSub   \n",
              "3  Phim đang chiếu/Cập Nhật Tập 01 VietSub   \n",
              "4  Phim đang chiếu/Cập Nhật Tập 02 VietSub   \n",
              "\n",
              "                                               genre          director  \\\n",
              "0          [Anime bộ, Shounen, Supernatural, Horror]   Hiroshi Ikehata   \n",
              "1  [Anime bộ, Sci-Fi, School, Romance, Psychologi...       Oono Satoru   \n",
              "2  [Anime bộ, Shounen, School, Romance, Slice of ...  Ishihama Masashi   \n",
              "3  [Anime bộ, Romance, Slice of Life, Harem, Ecch...      Koga Kazuomi   \n",
              "4  [Anime bộ, Shounen, Romance, Fantasy, Comedy, ...     Naoya Takashi   \n",
              "\n",
              "    country follower quality                         rating  \\\n",
              "0  Nhật Bản       34      HD   R - 17+ (bạo lực và tục tĩu)   \n",
              "1  Nhật Bản      222      HD  PG-13 - Teens 13 tuổi trở lên   \n",
              "2  Nhật Bản      497      HD  PG-13 - Teens 13 tuổi trở lên   \n",
              "3  Nhật Bản      139      HD  PG-13 - Teens 13 tuổi trở lên   \n",
              "4  Nhật Bản      643      HD  PG-13 - Teens 13 tuổi trở lên   \n",
              "\n",
              "                 studio         season  \n",
              "0                   OLM  Mùa Hạ - 2023  \n",
              "1             GEEK TOYS  Mùa Hạ - 2023  \n",
              "2           CloverWorks  Mùa Hạ - 2023  \n",
              "3                Gekkou  Mùa Hạ - 2023  \n",
              "4  Staple Entertainment  Mùa Hạ - 2023  "
            ],
            "text/html": [
              "\n",
              "\n",
              "  <div id=\"df-7d679e4e-505f-4a9f-a76d-7ab0aaaf36a6\">\n",
              "    <div class=\"colab-df-container\">\n",
              "      <div>\n",
              "<style scoped>\n",
              "    .dataframe tbody tr th:only-of-type {\n",
              "        vertical-align: middle;\n",
              "    }\n",
              "\n",
              "    .dataframe tbody tr th {\n",
              "        vertical-align: top;\n",
              "    }\n",
              "\n",
              "    .dataframe thead th {\n",
              "        text-align: right;\n",
              "    }\n",
              "</style>\n",
              "<table border=\"1\" class=\"dataframe\">\n",
              "  <thead>\n",
              "    <tr style=\"text-align: right;\">\n",
              "      <th></th>\n",
              "      <th>name</th>\n",
              "      <th>description</th>\n",
              "      <th>voting</th>\n",
              "      <th>duration</th>\n",
              "      <th>view</th>\n",
              "      <th>status</th>\n",
              "      <th>genre</th>\n",
              "      <th>director</th>\n",
              "      <th>country</th>\n",
              "      <th>follower</th>\n",
              "      <th>quality</th>\n",
              "      <th>rating</th>\n",
              "      <th>studio</th>\n",
              "      <th>season</th>\n",
              "    </tr>\n",
              "  </thead>\n",
              "  <tbody>\n",
              "    <tr>\n",
              "      <th>0</th>\n",
              "      <td>Dark Gathering</td>\n",
              "      <td>Keitarou, chàng trai có khả năng thu hút ma qu...</td>\n",
              "      <td>95</td>\n",
              "      <td>01/25</td>\n",
              "      <td>36088</td>\n",
              "      <td>Phim đang chiếu/Cập Nhật Tập 01 VietSub</td>\n",
              "      <td>[Anime bộ, Shounen, Supernatural, Horror]</td>\n",
              "      <td>Hiroshi Ikehata</td>\n",
              "      <td>Nhật Bản</td>\n",
              "      <td>34</td>\n",
              "      <td>HD</td>\n",
              "      <td>R - 17+ (bạo lực và tục tĩu)</td>\n",
              "      <td>OLM</td>\n",
              "      <td>Mùa Hạ - 2023</td>\n",
              "    </tr>\n",
              "    <tr>\n",
              "      <th>1</th>\n",
              "      <td>Trò Chơi Nói Dối</td>\n",
              "      <td>Đảo học viện, nơi các học sinh mở ra những trậ...</td>\n",
              "      <td>94</td>\n",
              "      <td>02/12</td>\n",
              "      <td>173964</td>\n",
              "      <td>Phim đang chiếu/Cập Nhật Tập 02 VietSub</td>\n",
              "      <td>[Anime bộ, Sci-Fi, School, Romance, Psychologi...</td>\n",
              "      <td>Oono Satoru</td>\n",
              "      <td>Nhật Bản</td>\n",
              "      <td>222</td>\n",
              "      <td>HD</td>\n",
              "      <td>PG-13 - Teens 13 tuổi trở lên</td>\n",
              "      <td>GEEK TOYS</td>\n",
              "      <td>Mùa Hạ - 2023</td>\n",
              "    </tr>\n",
              "    <tr>\n",
              "      <th>2</th>\n",
              "      <td>Horimiya: Piece</td>\n",
              "      <td>Chuyển thể những phần ở manga bị cắt trong TV ...</td>\n",
              "      <td>91</td>\n",
              "      <td>02/13</td>\n",
              "      <td>584019</td>\n",
              "      <td>Phim đang chiếu/Cập Nhật Tập 02 VietSub</td>\n",
              "      <td>[Anime bộ, Shounen, School, Romance, Slice of ...</td>\n",
              "      <td>Ishihama Masashi</td>\n",
              "      <td>Nhật Bản</td>\n",
              "      <td>497</td>\n",
              "      <td>HD</td>\n",
              "      <td>PG-13 - Teens 13 tuổi trở lên</td>\n",
              "      <td>CloverWorks</td>\n",
              "      <td>Mùa Hạ - 2023</td>\n",
              "    </tr>\n",
              "    <tr>\n",
              "      <th>3</th>\n",
              "      <td>Temple</td>\n",
              "      <td>Đúng vậy. Tôi sẽ trở thành một nhà sư! Không b...</td>\n",
              "      <td>97</td>\n",
              "      <td>01/12</td>\n",
              "      <td>86385</td>\n",
              "      <td>Phim đang chiếu/Cập Nhật Tập 01 VietSub</td>\n",
              "      <td>[Anime bộ, Romance, Slice of Life, Harem, Ecch...</td>\n",
              "      <td>Koga Kazuomi</td>\n",
              "      <td>Nhật Bản</td>\n",
              "      <td>139</td>\n",
              "      <td>HD</td>\n",
              "      <td>PG-13 - Teens 13 tuổi trở lên</td>\n",
              "      <td>Gekkou</td>\n",
              "      <td>Mùa Hạ - 2023</td>\n",
              "    </tr>\n",
              "    <tr>\n",
              "      <th>4</th>\n",
              "      <td>Tôi Có Thực Sự Là Người Mạnh Nhất Không?</td>\n",
              "      <td>Một thanh niên bị bắt nạt được tái sinh ở thế ...</td>\n",
              "      <td>89</td>\n",
              "      <td>02/12</td>\n",
              "      <td>555460</td>\n",
              "      <td>Phim đang chiếu/Cập Nhật Tập 02 VietSub</td>\n",
              "      <td>[Anime bộ, Shounen, Romance, Fantasy, Comedy, ...</td>\n",
              "      <td>Naoya Takashi</td>\n",
              "      <td>Nhật Bản</td>\n",
              "      <td>643</td>\n",
              "      <td>HD</td>\n",
              "      <td>PG-13 - Teens 13 tuổi trở lên</td>\n",
              "      <td>Staple Entertainment</td>\n",
              "      <td>Mùa Hạ - 2023</td>\n",
              "    </tr>\n",
              "  </tbody>\n",
              "</table>\n",
              "</div>\n",
              "      <button class=\"colab-df-convert\" onclick=\"convertToInteractive('df-7d679e4e-505f-4a9f-a76d-7ab0aaaf36a6')\"\n",
              "              title=\"Convert this dataframe to an interactive table.\"\n",
              "              style=\"display:none;\">\n",
              "\n",
              "  <svg xmlns=\"http://www.w3.org/2000/svg\" height=\"24px\"viewBox=\"0 0 24 24\"\n",
              "       width=\"24px\">\n",
              "    <path d=\"M0 0h24v24H0V0z\" fill=\"none\"/>\n",
              "    <path d=\"M18.56 5.44l.94 2.06.94-2.06 2.06-.94-2.06-.94-.94-2.06-.94 2.06-2.06.94zm-11 1L8.5 8.5l.94-2.06 2.06-.94-2.06-.94L8.5 2.5l-.94 2.06-2.06.94zm10 10l.94 2.06.94-2.06 2.06-.94-2.06-.94-.94-2.06-.94 2.06-2.06.94z\"/><path d=\"M17.41 7.96l-1.37-1.37c-.4-.4-.92-.59-1.43-.59-.52 0-1.04.2-1.43.59L10.3 9.45l-7.72 7.72c-.78.78-.78 2.05 0 2.83L4 21.41c.39.39.9.59 1.41.59.51 0 1.02-.2 1.41-.59l7.78-7.78 2.81-2.81c.8-.78.8-2.07 0-2.86zM5.41 20L4 18.59l7.72-7.72 1.47 1.35L5.41 20z\"/>\n",
              "  </svg>\n",
              "      </button>\n",
              "\n",
              "\n",
              "\n",
              "    <div id=\"df-c3fd9968-2bf6-4999-b69b-d9a3afc0744d\">\n",
              "      <button class=\"colab-df-quickchart\" onclick=\"quickchart('df-c3fd9968-2bf6-4999-b69b-d9a3afc0744d')\"\n",
              "              title=\"Suggest charts.\"\n",
              "              style=\"display:none;\">\n",
              "\n",
              "<svg xmlns=\"http://www.w3.org/2000/svg\" height=\"24px\"viewBox=\"0 0 24 24\"\n",
              "     width=\"24px\">\n",
              "    <g>\n",
              "        <path d=\"M19 3H5c-1.1 0-2 .9-2 2v14c0 1.1.9 2 2 2h14c1.1 0 2-.9 2-2V5c0-1.1-.9-2-2-2zM9 17H7v-7h2v7zm4 0h-2V7h2v10zm4 0h-2v-4h2v4z\"/>\n",
              "    </g>\n",
              "</svg>\n",
              "      </button>\n",
              "    </div>\n",
              "\n",
              "<style>\n",
              "  .colab-df-quickchart {\n",
              "    background-color: #E8F0FE;\n",
              "    border: none;\n",
              "    border-radius: 50%;\n",
              "    cursor: pointer;\n",
              "    display: none;\n",
              "    fill: #1967D2;\n",
              "    height: 32px;\n",
              "    padding: 0 0 0 0;\n",
              "    width: 32px;\n",
              "  }\n",
              "\n",
              "  .colab-df-quickchart:hover {\n",
              "    background-color: #E2EBFA;\n",
              "    box-shadow: 0px 1px 2px rgba(60, 64, 67, 0.3), 0px 1px 3px 1px rgba(60, 64, 67, 0.15);\n",
              "    fill: #174EA6;\n",
              "  }\n",
              "\n",
              "  [theme=dark] .colab-df-quickchart {\n",
              "    background-color: #3B4455;\n",
              "    fill: #D2E3FC;\n",
              "  }\n",
              "\n",
              "  [theme=dark] .colab-df-quickchart:hover {\n",
              "    background-color: #434B5C;\n",
              "    box-shadow: 0px 1px 3px 1px rgba(0, 0, 0, 0.15);\n",
              "    filter: drop-shadow(0px 1px 2px rgba(0, 0, 0, 0.3));\n",
              "    fill: #FFFFFF;\n",
              "  }\n",
              "</style>\n",
              "\n",
              "    <script>\n",
              "      async function quickchart(key) {\n",
              "        const containerElement = document.querySelector('#' + key);\n",
              "        const charts = await google.colab.kernel.invokeFunction(\n",
              "            'suggestCharts', [key], {});\n",
              "      }\n",
              "    </script>\n",
              "\n",
              "      <script>\n",
              "\n",
              "function displayQuickchartButton(domScope) {\n",
              "  let quickchartButtonEl =\n",
              "    domScope.querySelector('#df-c3fd9968-2bf6-4999-b69b-d9a3afc0744d button.colab-df-quickchart');\n",
              "  quickchartButtonEl.style.display =\n",
              "    google.colab.kernel.accessAllowed ? 'block' : 'none';\n",
              "}\n",
              "\n",
              "        displayQuickchartButton(document);\n",
              "      </script>\n",
              "      <style>\n",
              "    .colab-df-container {\n",
              "      display:flex;\n",
              "      flex-wrap:wrap;\n",
              "      gap: 12px;\n",
              "    }\n",
              "\n",
              "    .colab-df-convert {\n",
              "      background-color: #E8F0FE;\n",
              "      border: none;\n",
              "      border-radius: 50%;\n",
              "      cursor: pointer;\n",
              "      display: none;\n",
              "      fill: #1967D2;\n",
              "      height: 32px;\n",
              "      padding: 0 0 0 0;\n",
              "      width: 32px;\n",
              "    }\n",
              "\n",
              "    .colab-df-convert:hover {\n",
              "      background-color: #E2EBFA;\n",
              "      box-shadow: 0px 1px 2px rgba(60, 64, 67, 0.3), 0px 1px 3px 1px rgba(60, 64, 67, 0.15);\n",
              "      fill: #174EA6;\n",
              "    }\n",
              "\n",
              "    [theme=dark] .colab-df-convert {\n",
              "      background-color: #3B4455;\n",
              "      fill: #D2E3FC;\n",
              "    }\n",
              "\n",
              "    [theme=dark] .colab-df-convert:hover {\n",
              "      background-color: #434B5C;\n",
              "      box-shadow: 0px 1px 3px 1px rgba(0, 0, 0, 0.15);\n",
              "      filter: drop-shadow(0px 1px 2px rgba(0, 0, 0, 0.3));\n",
              "      fill: #FFFFFF;\n",
              "    }\n",
              "  </style>\n",
              "\n",
              "      <script>\n",
              "        const buttonEl =\n",
              "          document.querySelector('#df-7d679e4e-505f-4a9f-a76d-7ab0aaaf36a6 button.colab-df-convert');\n",
              "        buttonEl.style.display =\n",
              "          google.colab.kernel.accessAllowed ? 'block' : 'none';\n",
              "\n",
              "        async function convertToInteractive(key) {\n",
              "          const element = document.querySelector('#df-7d679e4e-505f-4a9f-a76d-7ab0aaaf36a6');\n",
              "          const dataTable =\n",
              "            await google.colab.kernel.invokeFunction('convertToInteractive',\n",
              "                                                     [key], {});\n",
              "          if (!dataTable) return;\n",
              "\n",
              "          const docLinkHtml = 'Like what you see? Visit the ' +\n",
              "            '<a target=\"_blank\" href=https://colab.research.google.com/notebooks/data_table.ipynb>data table notebook</a>'\n",
              "            + ' to learn more about interactive tables.';\n",
              "          element.innerHTML = '';\n",
              "          dataTable['output_type'] = 'display_data';\n",
              "          await google.colab.output.renderOutput(dataTable, element);\n",
              "          const docLink = document.createElement('div');\n",
              "          docLink.innerHTML = docLinkHtml;\n",
              "          element.appendChild(docLink);\n",
              "        }\n",
              "      </script>\n",
              "    </div>\n",
              "  </div>\n"
            ]
          },
          "metadata": {},
          "execution_count": 47
        }
      ]
    },
    {
      "cell_type": "markdown",
      "source": [
        "###Xử lý các giá trị null"
      ],
      "metadata": {
        "id": "0fCUFpp-OxK_"
      }
    },
    {
      "cell_type": "markdown",
      "source": [
        "####1. Director"
      ],
      "metadata": {
        "id": "E7P98KfhVlMM"
      }
    },
    {
      "cell_type": "code",
      "source": [
        "pd.set_option('display.max_rows', None)\n",
        "data['director'].value_counts(dropna=False)"
      ],
      "metadata": {
        "id": "v_qdD68YWx21"
      },
      "execution_count": null,
      "outputs": []
    },
    {
      "cell_type": "markdown",
      "source": [
        "Trường dữ liệu này thiếu khá nhiều dữ liệu nên khó có thể xem xét cụ thể từng bản ghi. Mặt khác, **director** là cố định cho mỗi bộ phim, không thể suy ra từ các trường dữ liệu khác. Do đó, ta sẽ lựa chọn giá trị mang ý nghĩa chưa rõ để điền vào các giá trị null. <br>\n",
        "\n",
        "Ngoài ra, có một số giá trị nên đưa về đồng nhất như ***Đang cập nhật, Đang Cập Nhập, Đang cập nhập, Chưa Cập Nhập,...***."
      ],
      "metadata": {
        "id": "uWBru3F4G45c"
      }
    },
    {
      "cell_type": "code",
      "source": [
        "def normalize_text(x):\n",
        "    texts = ['Chưa Cập Nhập', 'Đang Cập Nhập', 'Đang cập nhập', 'Chưa rõ', 'Đang Cập Nhật', 'None found, add some']\n",
        "    for i in range(len(texts)):\n",
        "        if texts[i] in x:\n",
        "            x = 'Đang cập nhật'\n",
        "    return x"
      ],
      "metadata": {
        "id": "-st7VR3KGXHd"
      },
      "execution_count": null,
      "outputs": []
    },
    {
      "cell_type": "code",
      "source": [
        "data['director'] = data['director'].fillna('Đang cập nhật')\n",
        "data['director'] = data['director'].apply(lambda x: normalize_text(x))"
      ],
      "metadata": {
        "id": "YmJmlaxFSThu"
      },
      "execution_count": null,
      "outputs": []
    },
    {
      "cell_type": "markdown",
      "source": [
        "####2. Country"
      ],
      "metadata": {
        "id": "gNHg78k7YIVk"
      }
    },
    {
      "cell_type": "code",
      "source": [
        "data['country'].value_counts(dropna=False)"
      ],
      "metadata": {
        "colab": {
          "base_uri": "https://localhost:8080/"
        },
        "id": "kyAZ3bdeY5W_",
        "outputId": "394bb419-433b-4913-f0b0-46018d95c2a8"
      },
      "execution_count": null,
      "outputs": [
        {
          "output_type": "execute_result",
          "data": {
            "text/plain": [
              "Nhật Bản      4523\n",
              "Trung Quốc     292\n",
              "Mỹ              29\n",
              "None            12\n",
              "Hàn Quốc         5\n",
              "Việt Nam         1\n",
              "Name: country, dtype: int64"
            ]
          },
          "metadata": {},
          "execution_count": 51
        }
      ]
    },
    {
      "cell_type": "code",
      "source": [
        "data[data['country'].isnull()]"
      ],
      "metadata": {
        "colab": {
          "base_uri": "https://localhost:8080/"
        },
        "id": "Zg1iZ4JL5WfO",
        "outputId": "bdabf65a-1353-4cd7-a4ac-d99c8ad1489c"
      },
      "execution_count": null,
      "outputs": [
        {
          "output_type": "execute_result",
          "data": {
            "text/plain": [
              "                                                   name  \\\n",
              "602                Dogs: Stray Dogs Howling In The Dark   \n",
              "1683                          Trò Chơi Sinh Tử Specials   \n",
              "2466                             GOSEI SENTAI DAIRANGER   \n",
              "2499           Kamen Rider Build Original Drama - ROGUE   \n",
              "2538                              Eden 2021 (TV series)   \n",
              "3221                         Lực Bạt Sơn Hà Hề Tử Đường   \n",
              "3357                                   Vũ Động Càn Khôn   \n",
              "3705                          Devil May Cry 4 the movie   \n",
              "4121                                BoBoiBoy: The Movie   \n",
              "4394                                             Sintel   \n",
              "4624          Thám Tử Lừng Danh Conan Các Phần Đặc Biệt   \n",
              "4625  Detective Conan: Kudo Shinichi e no Chousenjou...   \n",
              "\n",
              "                                            description  voting  \\\n",
              "602   Đó là khoảng thời gian trong tương lai, một th...      55   \n",
              "1683  Mấy chuyện trên trời dưới đất trong No Game No...      96   \n",
              "2466  Super Sentai phần 17 sản xuất năm 1993. 6000 n...      10   \n",
              "2499  Một ngoại truyện nhỏ về Himuro Gentoku gồm 3 p...      73   \n",
              "2538  Eden Phần 1 - Eden Season 1 (2021) lấy bối cản...      82   \n",
              "3221  Đông Thánh Tử Đường, dùng võ lập quốc, trong b...      90   \n",
              "3357  Một đường tu luyện, trộm âm dương, đoạt vận ma...      93   \n",
              "3705                            Movie của devil may cry      55   \n",
              "4121  Một nhóm siêu anh hùng nhí có năng lượng và sứ...     100   \n",
              "4394  Bộ phim mở màn với cảnh một cô gái có tên gọi ...       0   \n",
              "4624  Các phần đặt biệt của bộ phim hoạt hình conan ...      95   \n",
              "4625                    Live action của Detective Conan      13   \n",
              "\n",
              "             duration     view                                   status  \\\n",
              "602               4/4    13195                                     FULL   \n",
              "1683              5/6   198089   Phim đang chiếu/Cập Nhật Tập 5 VietSub   \n",
              "2466            50/50    49961                                     Full   \n",
              "2499            03/??    95531   Phim đang chiếu/Cập Nhật Tập 3 VietSub   \n",
              "2538            04/04    10798                                 Tập Full   \n",
              "3221            20/20    99728                                     Full   \n",
              "3357            36/??  1128438  Phim đang chiếu/Cập Nhật Tập 36 VietSub   \n",
              "3705              3/3    15804                       Trọn bộ SD VietSub   \n",
              "4121             Full    25047                       Trọn bộ HD VietSub   \n",
              "4394  14 phút 48 giây     9828                       Trọn bộ HD VietSub   \n",
              "4624            08/08   339545                       Trọn bộ HD VietSub   \n",
              "4625            01/01    37158                       Trọn bộ HD VietSub   \n",
              "\n",
              "                                  genre           director country follower  \\\n",
              "602                          [Anime bộ]      Đang cập nhật    None        2   \n",
              "1683   [Anime bộ, Game, Fantasy, Ecchi]      Đang cập nhật    None       94   \n",
              "2466                         [Anime bộ]      Đang cập nhật    None       40   \n",
              "2499                 [Anime bộ, Action]      Đang cập nhật    None       26   \n",
              "2538                         [Anime bộ]      Yasuhiro Irie    None        6   \n",
              "3221                         [Anime bộ]      Đang cập nhật    None      169   \n",
              "3357        [Anime bộ, Fantasy, Action]      Đang cập nhật    None    1,458   \n",
              "3705                         [Anime lẻ]     Hideaki Itsuno    None        1   \n",
              "4121  [Anime lẻ, Ecchi, Demons, Action]        Nizam Razak    None       20   \n",
              "4394                [Anime lẻ, Fantasy]      Đang cập nhật    None        1   \n",
              "4624                         [Anime lẻ]      Đang cập nhật    None      149   \n",
              "4625                         [Anime lẻ]  Tekeshi Shirakawa    None       16   \n",
              "\n",
              "     quality                         rating                            studio  \\\n",
              "602       HD                            N/A                          Madhouse   \n",
              "1683      HD  PG-13 - Teens 13 tuổi trở lên                          Madhouse   \n",
              "2466      SD                            N/A                              None   \n",
              "2499      HD  R+ - Dành cho 16 tuổi trở lên                              None   \n",
              "2538     FHD                    PG - Trẻ em  Qubic Pictures, CGCG Studio Inc.   \n",
              "3221      HD  PG-13 - Teens 13 tuổi trở lên          Aurora,Fengyun Animation   \n",
              "3357      HD                           None                              None   \n",
              "3705      SD   R - 17+ (bạo lực và tục tĩu)                              None   \n",
              "4121      HD  PG-13 - Teens 13 tuổi trở lên                 Animonsta Studios   \n",
              "4394      HD                           None                     Đang Cập Nhập   \n",
              "4624      HD  PG-13 - Teens 13 tuổi trở lên                 TMS Entertainment   \n",
              "4625      HD  PG-13 - Teens 13 tuổi trở lên                              None   \n",
              "\n",
              "               season  \n",
              "602   Mùa Xuân - 2009  \n",
              "1683  Mùa Xuân - 2014  \n",
              "2466             None  \n",
              "2499             None  \n",
              "2538  Mùa Xuân - 2021  \n",
              "3221  Mùa Xuân - 2022  \n",
              "3357             None  \n",
              "3705             None  \n",
              "4121    Mùa Hạ - 2016  \n",
              "4394  Mùa Xuân - 2010  \n",
              "4624   Mùa Thu - 2007  \n",
              "4625             None  "
            ],
            "text/html": [
              "\n",
              "\n",
              "  <div id=\"df-081552d6-2589-404f-9482-d92f596ab093\">\n",
              "    <div class=\"colab-df-container\">\n",
              "      <div>\n",
              "<style scoped>\n",
              "    .dataframe tbody tr th:only-of-type {\n",
              "        vertical-align: middle;\n",
              "    }\n",
              "\n",
              "    .dataframe tbody tr th {\n",
              "        vertical-align: top;\n",
              "    }\n",
              "\n",
              "    .dataframe thead th {\n",
              "        text-align: right;\n",
              "    }\n",
              "</style>\n",
              "<table border=\"1\" class=\"dataframe\">\n",
              "  <thead>\n",
              "    <tr style=\"text-align: right;\">\n",
              "      <th></th>\n",
              "      <th>name</th>\n",
              "      <th>description</th>\n",
              "      <th>voting</th>\n",
              "      <th>duration</th>\n",
              "      <th>view</th>\n",
              "      <th>status</th>\n",
              "      <th>genre</th>\n",
              "      <th>director</th>\n",
              "      <th>country</th>\n",
              "      <th>follower</th>\n",
              "      <th>quality</th>\n",
              "      <th>rating</th>\n",
              "      <th>studio</th>\n",
              "      <th>season</th>\n",
              "    </tr>\n",
              "  </thead>\n",
              "  <tbody>\n",
              "    <tr>\n",
              "      <th>602</th>\n",
              "      <td>Dogs: Stray Dogs Howling In The Dark</td>\n",
              "      <td>Đó là khoảng thời gian trong tương lai, một th...</td>\n",
              "      <td>55</td>\n",
              "      <td>4/4</td>\n",
              "      <td>13195</td>\n",
              "      <td>FULL</td>\n",
              "      <td>[Anime bộ]</td>\n",
              "      <td>Đang cập nhật</td>\n",
              "      <td>None</td>\n",
              "      <td>2</td>\n",
              "      <td>HD</td>\n",
              "      <td>N/A</td>\n",
              "      <td>Madhouse</td>\n",
              "      <td>Mùa Xuân - 2009</td>\n",
              "    </tr>\n",
              "    <tr>\n",
              "      <th>1683</th>\n",
              "      <td>Trò Chơi Sinh Tử Specials</td>\n",
              "      <td>Mấy chuyện trên trời dưới đất trong No Game No...</td>\n",
              "      <td>96</td>\n",
              "      <td>5/6</td>\n",
              "      <td>198089</td>\n",
              "      <td>Phim đang chiếu/Cập Nhật Tập 5 VietSub</td>\n",
              "      <td>[Anime bộ, Game, Fantasy, Ecchi]</td>\n",
              "      <td>Đang cập nhật</td>\n",
              "      <td>None</td>\n",
              "      <td>94</td>\n",
              "      <td>HD</td>\n",
              "      <td>PG-13 - Teens 13 tuổi trở lên</td>\n",
              "      <td>Madhouse</td>\n",
              "      <td>Mùa Xuân - 2014</td>\n",
              "    </tr>\n",
              "    <tr>\n",
              "      <th>2466</th>\n",
              "      <td>GOSEI SENTAI DAIRANGER</td>\n",
              "      <td>Super Sentai phần 17 sản xuất năm 1993. 6000 n...</td>\n",
              "      <td>10</td>\n",
              "      <td>50/50</td>\n",
              "      <td>49961</td>\n",
              "      <td>Full</td>\n",
              "      <td>[Anime bộ]</td>\n",
              "      <td>Đang cập nhật</td>\n",
              "      <td>None</td>\n",
              "      <td>40</td>\n",
              "      <td>SD</td>\n",
              "      <td>N/A</td>\n",
              "      <td>None</td>\n",
              "      <td>None</td>\n",
              "    </tr>\n",
              "    <tr>\n",
              "      <th>2499</th>\n",
              "      <td>Kamen Rider Build Original Drama - ROGUE</td>\n",
              "      <td>Một ngoại truyện nhỏ về Himuro Gentoku gồm 3 p...</td>\n",
              "      <td>73</td>\n",
              "      <td>03/??</td>\n",
              "      <td>95531</td>\n",
              "      <td>Phim đang chiếu/Cập Nhật Tập 3 VietSub</td>\n",
              "      <td>[Anime bộ, Action]</td>\n",
              "      <td>Đang cập nhật</td>\n",
              "      <td>None</td>\n",
              "      <td>26</td>\n",
              "      <td>HD</td>\n",
              "      <td>R+ - Dành cho 16 tuổi trở lên</td>\n",
              "      <td>None</td>\n",
              "      <td>None</td>\n",
              "    </tr>\n",
              "    <tr>\n",
              "      <th>2538</th>\n",
              "      <td>Eden 2021 (TV series)</td>\n",
              "      <td>Eden Phần 1 - Eden Season 1 (2021) lấy bối cản...</td>\n",
              "      <td>82</td>\n",
              "      <td>04/04</td>\n",
              "      <td>10798</td>\n",
              "      <td>Tập Full</td>\n",
              "      <td>[Anime bộ]</td>\n",
              "      <td>Yasuhiro Irie</td>\n",
              "      <td>None</td>\n",
              "      <td>6</td>\n",
              "      <td>FHD</td>\n",
              "      <td>PG - Trẻ em</td>\n",
              "      <td>Qubic Pictures, CGCG Studio Inc.</td>\n",
              "      <td>Mùa Xuân - 2021</td>\n",
              "    </tr>\n",
              "    <tr>\n",
              "      <th>3221</th>\n",
              "      <td>Lực Bạt Sơn Hà Hề Tử Đường</td>\n",
              "      <td>Đông Thánh Tử Đường, dùng võ lập quốc, trong b...</td>\n",
              "      <td>90</td>\n",
              "      <td>20/20</td>\n",
              "      <td>99728</td>\n",
              "      <td>Full</td>\n",
              "      <td>[Anime bộ]</td>\n",
              "      <td>Đang cập nhật</td>\n",
              "      <td>None</td>\n",
              "      <td>169</td>\n",
              "      <td>HD</td>\n",
              "      <td>PG-13 - Teens 13 tuổi trở lên</td>\n",
              "      <td>Aurora,Fengyun Animation</td>\n",
              "      <td>Mùa Xuân - 2022</td>\n",
              "    </tr>\n",
              "    <tr>\n",
              "      <th>3357</th>\n",
              "      <td>Vũ Động Càn Khôn</td>\n",
              "      <td>Một đường tu luyện, trộm âm dương, đoạt vận ma...</td>\n",
              "      <td>93</td>\n",
              "      <td>36/??</td>\n",
              "      <td>1128438</td>\n",
              "      <td>Phim đang chiếu/Cập Nhật Tập 36 VietSub</td>\n",
              "      <td>[Anime bộ, Fantasy, Action]</td>\n",
              "      <td>Đang cập nhật</td>\n",
              "      <td>None</td>\n",
              "      <td>1,458</td>\n",
              "      <td>HD</td>\n",
              "      <td>None</td>\n",
              "      <td>None</td>\n",
              "      <td>None</td>\n",
              "    </tr>\n",
              "    <tr>\n",
              "      <th>3705</th>\n",
              "      <td>Devil May Cry 4 the movie</td>\n",
              "      <td>Movie của devil may cry</td>\n",
              "      <td>55</td>\n",
              "      <td>3/3</td>\n",
              "      <td>15804</td>\n",
              "      <td>Trọn bộ SD VietSub</td>\n",
              "      <td>[Anime lẻ]</td>\n",
              "      <td>Hideaki Itsuno</td>\n",
              "      <td>None</td>\n",
              "      <td>1</td>\n",
              "      <td>SD</td>\n",
              "      <td>R - 17+ (bạo lực và tục tĩu)</td>\n",
              "      <td>None</td>\n",
              "      <td>None</td>\n",
              "    </tr>\n",
              "    <tr>\n",
              "      <th>4121</th>\n",
              "      <td>BoBoiBoy: The Movie</td>\n",
              "      <td>Một nhóm siêu anh hùng nhí có năng lượng và sứ...</td>\n",
              "      <td>100</td>\n",
              "      <td>Full</td>\n",
              "      <td>25047</td>\n",
              "      <td>Trọn bộ HD VietSub</td>\n",
              "      <td>[Anime lẻ, Ecchi, Demons, Action]</td>\n",
              "      <td>Nizam Razak</td>\n",
              "      <td>None</td>\n",
              "      <td>20</td>\n",
              "      <td>HD</td>\n",
              "      <td>PG-13 - Teens 13 tuổi trở lên</td>\n",
              "      <td>Animonsta Studios</td>\n",
              "      <td>Mùa Hạ - 2016</td>\n",
              "    </tr>\n",
              "    <tr>\n",
              "      <th>4394</th>\n",
              "      <td>Sintel</td>\n",
              "      <td>Bộ phim mở màn với cảnh một cô gái có tên gọi ...</td>\n",
              "      <td>0</td>\n",
              "      <td>14 phút 48 giây</td>\n",
              "      <td>9828</td>\n",
              "      <td>Trọn bộ HD VietSub</td>\n",
              "      <td>[Anime lẻ, Fantasy]</td>\n",
              "      <td>Đang cập nhật</td>\n",
              "      <td>None</td>\n",
              "      <td>1</td>\n",
              "      <td>HD</td>\n",
              "      <td>None</td>\n",
              "      <td>Đang Cập Nhập</td>\n",
              "      <td>Mùa Xuân - 2010</td>\n",
              "    </tr>\n",
              "    <tr>\n",
              "      <th>4624</th>\n",
              "      <td>Thám Tử Lừng Danh Conan Các Phần Đặc Biệt</td>\n",
              "      <td>Các phần đặt biệt của bộ phim hoạt hình conan ...</td>\n",
              "      <td>95</td>\n",
              "      <td>08/08</td>\n",
              "      <td>339545</td>\n",
              "      <td>Trọn bộ HD VietSub</td>\n",
              "      <td>[Anime lẻ]</td>\n",
              "      <td>Đang cập nhật</td>\n",
              "      <td>None</td>\n",
              "      <td>149</td>\n",
              "      <td>HD</td>\n",
              "      <td>PG-13 - Teens 13 tuổi trở lên</td>\n",
              "      <td>TMS Entertainment</td>\n",
              "      <td>Mùa Thu - 2007</td>\n",
              "    </tr>\n",
              "    <tr>\n",
              "      <th>4625</th>\n",
              "      <td>Detective Conan: Kudo Shinichi e no Chousenjou...</td>\n",
              "      <td>Live action của Detective Conan</td>\n",
              "      <td>13</td>\n",
              "      <td>01/01</td>\n",
              "      <td>37158</td>\n",
              "      <td>Trọn bộ HD VietSub</td>\n",
              "      <td>[Anime lẻ]</td>\n",
              "      <td>Tekeshi Shirakawa</td>\n",
              "      <td>None</td>\n",
              "      <td>16</td>\n",
              "      <td>HD</td>\n",
              "      <td>PG-13 - Teens 13 tuổi trở lên</td>\n",
              "      <td>None</td>\n",
              "      <td>None</td>\n",
              "    </tr>\n",
              "  </tbody>\n",
              "</table>\n",
              "</div>\n",
              "      <button class=\"colab-df-convert\" onclick=\"convertToInteractive('df-081552d6-2589-404f-9482-d92f596ab093')\"\n",
              "              title=\"Convert this dataframe to an interactive table.\"\n",
              "              style=\"display:none;\">\n",
              "\n",
              "  <svg xmlns=\"http://www.w3.org/2000/svg\" height=\"24px\"viewBox=\"0 0 24 24\"\n",
              "       width=\"24px\">\n",
              "    <path d=\"M0 0h24v24H0V0z\" fill=\"none\"/>\n",
              "    <path d=\"M18.56 5.44l.94 2.06.94-2.06 2.06-.94-2.06-.94-.94-2.06-.94 2.06-2.06.94zm-11 1L8.5 8.5l.94-2.06 2.06-.94-2.06-.94L8.5 2.5l-.94 2.06-2.06.94zm10 10l.94 2.06.94-2.06 2.06-.94-2.06-.94-.94-2.06-.94 2.06-2.06.94z\"/><path d=\"M17.41 7.96l-1.37-1.37c-.4-.4-.92-.59-1.43-.59-.52 0-1.04.2-1.43.59L10.3 9.45l-7.72 7.72c-.78.78-.78 2.05 0 2.83L4 21.41c.39.39.9.59 1.41.59.51 0 1.02-.2 1.41-.59l7.78-7.78 2.81-2.81c.8-.78.8-2.07 0-2.86zM5.41 20L4 18.59l7.72-7.72 1.47 1.35L5.41 20z\"/>\n",
              "  </svg>\n",
              "      </button>\n",
              "\n",
              "\n",
              "\n",
              "    <div id=\"df-d2438226-9a28-4998-88d2-d776827114ed\">\n",
              "      <button class=\"colab-df-quickchart\" onclick=\"quickchart('df-d2438226-9a28-4998-88d2-d776827114ed')\"\n",
              "              title=\"Suggest charts.\"\n",
              "              style=\"display:none;\">\n",
              "\n",
              "<svg xmlns=\"http://www.w3.org/2000/svg\" height=\"24px\"viewBox=\"0 0 24 24\"\n",
              "     width=\"24px\">\n",
              "    <g>\n",
              "        <path d=\"M19 3H5c-1.1 0-2 .9-2 2v14c0 1.1.9 2 2 2h14c1.1 0 2-.9 2-2V5c0-1.1-.9-2-2-2zM9 17H7v-7h2v7zm4 0h-2V7h2v10zm4 0h-2v-4h2v4z\"/>\n",
              "    </g>\n",
              "</svg>\n",
              "      </button>\n",
              "    </div>\n",
              "\n",
              "<style>\n",
              "  .colab-df-quickchart {\n",
              "    background-color: #E8F0FE;\n",
              "    border: none;\n",
              "    border-radius: 50%;\n",
              "    cursor: pointer;\n",
              "    display: none;\n",
              "    fill: #1967D2;\n",
              "    height: 32px;\n",
              "    padding: 0 0 0 0;\n",
              "    width: 32px;\n",
              "  }\n",
              "\n",
              "  .colab-df-quickchart:hover {\n",
              "    background-color: #E2EBFA;\n",
              "    box-shadow: 0px 1px 2px rgba(60, 64, 67, 0.3), 0px 1px 3px 1px rgba(60, 64, 67, 0.15);\n",
              "    fill: #174EA6;\n",
              "  }\n",
              "\n",
              "  [theme=dark] .colab-df-quickchart {\n",
              "    background-color: #3B4455;\n",
              "    fill: #D2E3FC;\n",
              "  }\n",
              "\n",
              "  [theme=dark] .colab-df-quickchart:hover {\n",
              "    background-color: #434B5C;\n",
              "    box-shadow: 0px 1px 3px 1px rgba(0, 0, 0, 0.15);\n",
              "    filter: drop-shadow(0px 1px 2px rgba(0, 0, 0, 0.3));\n",
              "    fill: #FFFFFF;\n",
              "  }\n",
              "</style>\n",
              "\n",
              "    <script>\n",
              "      async function quickchart(key) {\n",
              "        const containerElement = document.querySelector('#' + key);\n",
              "        const charts = await google.colab.kernel.invokeFunction(\n",
              "            'suggestCharts', [key], {});\n",
              "      }\n",
              "    </script>\n",
              "\n",
              "      <script>\n",
              "\n",
              "function displayQuickchartButton(domScope) {\n",
              "  let quickchartButtonEl =\n",
              "    domScope.querySelector('#df-d2438226-9a28-4998-88d2-d776827114ed button.colab-df-quickchart');\n",
              "  quickchartButtonEl.style.display =\n",
              "    google.colab.kernel.accessAllowed ? 'block' : 'none';\n",
              "}\n",
              "\n",
              "        displayQuickchartButton(document);\n",
              "      </script>\n",
              "      <style>\n",
              "    .colab-df-container {\n",
              "      display:flex;\n",
              "      flex-wrap:wrap;\n",
              "      gap: 12px;\n",
              "    }\n",
              "\n",
              "    .colab-df-convert {\n",
              "      background-color: #E8F0FE;\n",
              "      border: none;\n",
              "      border-radius: 50%;\n",
              "      cursor: pointer;\n",
              "      display: none;\n",
              "      fill: #1967D2;\n",
              "      height: 32px;\n",
              "      padding: 0 0 0 0;\n",
              "      width: 32px;\n",
              "    }\n",
              "\n",
              "    .colab-df-convert:hover {\n",
              "      background-color: #E2EBFA;\n",
              "      box-shadow: 0px 1px 2px rgba(60, 64, 67, 0.3), 0px 1px 3px 1px rgba(60, 64, 67, 0.15);\n",
              "      fill: #174EA6;\n",
              "    }\n",
              "\n",
              "    [theme=dark] .colab-df-convert {\n",
              "      background-color: #3B4455;\n",
              "      fill: #D2E3FC;\n",
              "    }\n",
              "\n",
              "    [theme=dark] .colab-df-convert:hover {\n",
              "      background-color: #434B5C;\n",
              "      box-shadow: 0px 1px 3px 1px rgba(0, 0, 0, 0.15);\n",
              "      filter: drop-shadow(0px 1px 2px rgba(0, 0, 0, 0.3));\n",
              "      fill: #FFFFFF;\n",
              "    }\n",
              "  </style>\n",
              "\n",
              "      <script>\n",
              "        const buttonEl =\n",
              "          document.querySelector('#df-081552d6-2589-404f-9482-d92f596ab093 button.colab-df-convert');\n",
              "        buttonEl.style.display =\n",
              "          google.colab.kernel.accessAllowed ? 'block' : 'none';\n",
              "\n",
              "        async function convertToInteractive(key) {\n",
              "          const element = document.querySelector('#df-081552d6-2589-404f-9482-d92f596ab093');\n",
              "          const dataTable =\n",
              "            await google.colab.kernel.invokeFunction('convertToInteractive',\n",
              "                                                     [key], {});\n",
              "          if (!dataTable) return;\n",
              "\n",
              "          const docLinkHtml = 'Like what you see? Visit the ' +\n",
              "            '<a target=\"_blank\" href=https://colab.research.google.com/notebooks/data_table.ipynb>data table notebook</a>'\n",
              "            + ' to learn more about interactive tables.';\n",
              "          element.innerHTML = '';\n",
              "          dataTable['output_type'] = 'display_data';\n",
              "          await google.colab.output.renderOutput(dataTable, element);\n",
              "          const docLink = document.createElement('div');\n",
              "          docLink.innerHTML = docLinkHtml;\n",
              "          element.appendChild(docLink);\n",
              "        }\n",
              "      </script>\n",
              "    </div>\n",
              "  </div>\n"
            ]
          },
          "metadata": {},
          "execution_count": 52
        }
      ]
    },
    {
      "cell_type": "markdown",
      "source": [
        "Đặc tính country chỉ thiếu 12 bản ghi nên có thể xem xét từng giá trị để lựa chọn phương án phù hợp. <br>\n",
        "Country chủ yếu là đất nước nơi anime được sản xuất. Do đó từ **studio** có thể suy ra đặc tính **country** còn thiếu. Madhouse, Qubic Pictures, TMS Entertainment là studio của Nhật Bản, Fengyun Animation là studio ở Trung Quốc và Animonsta Studios là của Malaysia. <br>"
      ],
      "metadata": {
        "id": "wSlPVXKb4e66"
      }
    },
    {
      "cell_type": "code",
      "source": [
        "data.loc[data['studio'] == 'Madhouse', 'country'] = 'Nhật Bản'\n",
        "data.loc[data['studio'] == 'Qubic Pictures, CGCG Studio Inc.', 'country'] = 'Nhật Bản'\n",
        "data.loc[data['studio'] == 'TMS Entertainment', 'country'] = 'Nhật Bản'\n",
        "data.loc[data['studio'] == 'Aurora,Fengyun Animation', 'country'] = 'Trung Quốc'\n",
        "data.loc[data['studio'] == 'Animonsta Studios', 'country'] = 'Malaysia'"
      ],
      "metadata": {
        "id": "cOehpsaQ5eWG"
      },
      "execution_count": null,
      "outputs": []
    },
    {
      "cell_type": "markdown",
      "source": [
        "Các bản ghi còn lại, dựa theo tên, nội dung tìm kiếm, Vũ Động Càn Khôn là phim Trung Quốc, Sintel thuộc Hà Lan, còn lại đều thuộc Nhật Bản"
      ],
      "metadata": {
        "id": "YXIQ2cBO-LA6"
      }
    },
    {
      "cell_type": "code",
      "source": [
        "data.loc[data['name'] == 'Vũ Động Càn Khôn', 'country'] = 'Trung Quốc'\n",
        "data.loc[data['name'] == 'Sintel', 'country'] = 'Hà Lan'\n",
        "data['country'] = data['country'].fillna('Nhật Bản')"
      ],
      "metadata": {
        "id": "wEf-WmHh-KwZ"
      },
      "execution_count": null,
      "outputs": []
    },
    {
      "cell_type": "markdown",
      "source": [
        "####3. Studio"
      ],
      "metadata": {
        "id": "gEtnh8SfYYmy"
      }
    },
    {
      "cell_type": "code",
      "source": [
        "data['studio'].value_counts(dropna=False)"
      ],
      "metadata": {
        "id": "8hdcvuUa_PbF"
      },
      "execution_count": null,
      "outputs": []
    },
    {
      "cell_type": "markdown",
      "source": [
        "Tương tự director, studio cũng không thể suy luận từ dữ liệu khác."
      ],
      "metadata": {
        "id": "vQWIAt_E_wI4"
      }
    },
    {
      "cell_type": "code",
      "source": [
        "data['studio'] = data['studio'].fillna('Đang cập nhật')\n",
        "data['studio'] = data['studio'].apply(lambda x: normalize_text(x))"
      ],
      "metadata": {
        "id": "Qt072I-X_hvt"
      },
      "execution_count": null,
      "outputs": []
    },
    {
      "cell_type": "markdown",
      "source": [
        "####4. Season"
      ],
      "metadata": {
        "id": "eTGkxDBoZEal"
      }
    },
    {
      "cell_type": "code",
      "source": [
        "data['season'].value_counts(dropna=False)"
      ],
      "metadata": {
        "id": "iGsXX40d9uxc"
      },
      "execution_count": null,
      "outputs": []
    },
    {
      "cell_type": "markdown",
      "source": [
        "\n",
        "Có một số giá trị khác biệt so với phần còn lại nên ta sẽ thay thế/loại bỏ."
      ],
      "metadata": {
        "id": "fv32HkPc96eQ"
      }
    },
    {
      "cell_type": "code",
      "source": [
        "data.loc[data['season'] == 'Mùa Hạ - 07 - 2021', 'season'] = 'Mùa Hạ - 2021'\n",
        "data.loc[data['season'] == 'Mùa Hạ - 2010-2011', 'season'] = 'Mùa Hạ - 2010'\n",
        "data = data.drop(data[data['season'] == 'Mùa Xuân - 2099'].index)"
      ],
      "metadata": {
        "id": "8L3I-c9n955c"
      },
      "execution_count": null,
      "outputs": []
    },
    {
      "cell_type": "markdown",
      "source": [
        "Có thể tách trường dữ liệu này thành 2 trường riêng là year và season."
      ],
      "metadata": {
        "id": "4uJYV_GsBHJt"
      }
    },
    {
      "cell_type": "code",
      "source": [
        "data['season'] = data['season'].apply(lambda x: str(x).split(' - ') if x is not None else x)\n",
        "data['year'] = data['season'].apply(lambda x: x[1] if x is not None else x)\n",
        "data['season'] = data['season'].apply(lambda x: x[0] if x is not None else x)"
      ],
      "metadata": {
        "id": "mSDe5drV7fHW"
      },
      "execution_count": null,
      "outputs": []
    },
    {
      "cell_type": "code",
      "source": [
        "data['year'].head()"
      ],
      "metadata": {
        "colab": {
          "base_uri": "https://localhost:8080/"
        },
        "id": "4Yg3NZkt9UlQ",
        "outputId": "4868346c-2b53-4b1c-873c-ba041e10d29a"
      },
      "execution_count": null,
      "outputs": [
        {
          "output_type": "execute_result",
          "data": {
            "text/plain": [
              "0    2023\n",
              "1    2023\n",
              "2    2023\n",
              "3    2023\n",
              "4    2023\n",
              "Name: year, dtype: object"
            ]
          },
          "metadata": {},
          "execution_count": 60
        }
      ]
    },
    {
      "cell_type": "code",
      "source": [
        "data['season'].head()"
      ],
      "metadata": {
        "colab": {
          "base_uri": "https://localhost:8080/"
        },
        "id": "ajXtTKEoAgy1",
        "outputId": "e300f575-82fd-4443-cf2f-095d8d02263e"
      },
      "execution_count": null,
      "outputs": [
        {
          "output_type": "execute_result",
          "data": {
            "text/plain": [
              "0    Mùa Hạ\n",
              "1    Mùa Hạ\n",
              "2    Mùa Hạ\n",
              "3    Mùa Hạ\n",
              "4    Mùa Hạ\n",
              "Name: season, dtype: object"
            ]
          },
          "metadata": {},
          "execution_count": 61
        }
      ]
    },
    {
      "cell_type": "code",
      "source": [
        "data['year'] = data['year'].fillna('')\n",
        "data['season'] = data['season'].fillna('')"
      ],
      "metadata": {
        "id": "I8FLyNWfBYe7"
      },
      "execution_count": null,
      "outputs": []
    },
    {
      "cell_type": "code",
      "source": [
        "data.info()"
      ],
      "metadata": {
        "colab": {
          "base_uri": "https://localhost:8080/"
        },
        "id": "aCxk6tkgBVKs",
        "outputId": "40e1c5ff-210a-41f9-9194-eef377caa2f7"
      },
      "execution_count": null,
      "outputs": [
        {
          "output_type": "stream",
          "name": "stdout",
          "text": [
            "<class 'pandas.core.frame.DataFrame'>\n",
            "Int64Index: 4861 entries, 0 to 4861\n",
            "Data columns (total 15 columns):\n",
            " #   Column       Non-Null Count  Dtype \n",
            "---  ------       --------------  ----- \n",
            " 0   name         4861 non-null   object\n",
            " 1   description  4861 non-null   object\n",
            " 2   voting       4861 non-null   int64 \n",
            " 3   duration     4861 non-null   object\n",
            " 4   view         4861 non-null   object\n",
            " 5   status       4861 non-null   object\n",
            " 6   genre        4861 non-null   object\n",
            " 7   director     4861 non-null   object\n",
            " 8   country      4861 non-null   object\n",
            " 9   follower     4861 non-null   object\n",
            " 10  quality      4861 non-null   object\n",
            " 11  rating       4861 non-null   object\n",
            " 12  studio       4861 non-null   object\n",
            " 13  season       4861 non-null   object\n",
            " 14  year         4861 non-null   object\n",
            "dtypes: int64(1), object(14)\n",
            "memory usage: 607.6+ KB\n"
          ]
        }
      ]
    },
    {
      "cell_type": "markdown",
      "source": [
        "###Xử lý kiểu dữ liệu"
      ],
      "metadata": {
        "id": "6juykNhvDtj8"
      }
    },
    {
      "cell_type": "markdown",
      "source": [
        "Các trường dữ liệu ***view, follower*** nên là kiểu **int**"
      ],
      "metadata": {
        "id": "c-6pXZ7KaUCz"
      }
    },
    {
      "cell_type": "code",
      "source": [
        "data['follower'] = data['follower'].str.replace(',','')"
      ],
      "metadata": {
        "id": "XkBnukfC7Hkd"
      },
      "execution_count": null,
      "outputs": []
    },
    {
      "cell_type": "code",
      "source": [
        "data['follower'] = data['follower'].astype(int)\n",
        "data['view'] = data['view'].astype(int)"
      ],
      "metadata": {
        "id": "eb93CAMRB2DL"
      },
      "execution_count": null,
      "outputs": []
    },
    {
      "cell_type": "markdown",
      "source": [
        "**voting** là tỉ lệ người theo dõi bình chọn cho anime, do đó trường dữ liệu này nên đưa về tỉ lệ %"
      ],
      "metadata": {
        "id": "eBvDvV86CUW_"
      }
    },
    {
      "cell_type": "code",
      "source": [
        "data['voting'] = data['voting']/100"
      ],
      "metadata": {
        "id": "NFLAcBL9R38H"
      },
      "execution_count": null,
      "outputs": []
    },
    {
      "cell_type": "code",
      "source": [
        "data.info()"
      ],
      "metadata": {
        "colab": {
          "base_uri": "https://localhost:8080/"
        },
        "id": "dP-HX03cCGJ9",
        "outputId": "1c6e5277-4965-408c-f48a-9202cfd01b8e"
      },
      "execution_count": null,
      "outputs": [
        {
          "output_type": "stream",
          "name": "stdout",
          "text": [
            "<class 'pandas.core.frame.DataFrame'>\n",
            "Int64Index: 4861 entries, 0 to 4861\n",
            "Data columns (total 15 columns):\n",
            " #   Column       Non-Null Count  Dtype  \n",
            "---  ------       --------------  -----  \n",
            " 0   name         4861 non-null   object \n",
            " 1   description  4861 non-null   object \n",
            " 2   voting       4861 non-null   float64\n",
            " 3   duration     4861 non-null   object \n",
            " 4   view         4861 non-null   int64  \n",
            " 5   status       4861 non-null   object \n",
            " 6   genre        4861 non-null   object \n",
            " 7   director     4861 non-null   object \n",
            " 8   country      4861 non-null   object \n",
            " 9   follower     4861 non-null   int64  \n",
            " 10  quality      4861 non-null   object \n",
            " 11  rating       4861 non-null   object \n",
            " 12  studio       4861 non-null   object \n",
            " 13  season       4861 non-null   object \n",
            " 14  year         4861 non-null   object \n",
            "dtypes: float64(1), int64(2), object(12)\n",
            "memory usage: 607.6+ KB\n"
          ]
        }
      ]
    },
    {
      "cell_type": "code",
      "source": [
        "data.head()"
      ],
      "metadata": {
        "colab": {
          "base_uri": "https://localhost:8080/"
        },
        "id": "tSj9PJz8CH4R",
        "outputId": "33389951-74d2-48e1-c194-154e4c446e1c"
      },
      "execution_count": null,
      "outputs": [
        {
          "output_type": "execute_result",
          "data": {
            "text/plain": [
              "                                       name  \\\n",
              "0                            Dark Gathering   \n",
              "1                          Trò Chơi Nói Dối   \n",
              "2                           Horimiya: Piece   \n",
              "3                                    Temple   \n",
              "4  Tôi Có Thực Sự Là Người Mạnh Nhất Không?   \n",
              "\n",
              "                                         description  voting duration    view  \\\n",
              "0  Keitarou, chàng trai có khả năng thu hút ma qu...    0.95    01/25   36088   \n",
              "1  Đảo học viện, nơi các học sinh mở ra những trậ...    0.94    02/12  173964   \n",
              "2  Chuyển thể những phần ở manga bị cắt trong TV ...    0.91    02/13  584019   \n",
              "3  Đúng vậy. Tôi sẽ trở thành một nhà sư! Không b...    0.97    01/12   86385   \n",
              "4  Một thanh niên bị bắt nạt được tái sinh ở thế ...    0.89    02/12  555460   \n",
              "\n",
              "                                    status  \\\n",
              "0  Phim đang chiếu/Cập Nhật Tập 01 VietSub   \n",
              "1  Phim đang chiếu/Cập Nhật Tập 02 VietSub   \n",
              "2  Phim đang chiếu/Cập Nhật Tập 02 VietSub   \n",
              "3  Phim đang chiếu/Cập Nhật Tập 01 VietSub   \n",
              "4  Phim đang chiếu/Cập Nhật Tập 02 VietSub   \n",
              "\n",
              "                                               genre          director  \\\n",
              "0          [Anime bộ, Shounen, Supernatural, Horror]   Hiroshi Ikehata   \n",
              "1  [Anime bộ, Sci-Fi, School, Romance, Psychologi...       Oono Satoru   \n",
              "2  [Anime bộ, Shounen, School, Romance, Slice of ...  Ishihama Masashi   \n",
              "3  [Anime bộ, Romance, Slice of Life, Harem, Ecch...      Koga Kazuomi   \n",
              "4  [Anime bộ, Shounen, Romance, Fantasy, Comedy, ...     Naoya Takashi   \n",
              "\n",
              "    country  follower quality                         rating  \\\n",
              "0  Nhật Bản        34      HD   R - 17+ (bạo lực và tục tĩu)   \n",
              "1  Nhật Bản       222      HD  PG-13 - Teens 13 tuổi trở lên   \n",
              "2  Nhật Bản       497      HD  PG-13 - Teens 13 tuổi trở lên   \n",
              "3  Nhật Bản       139      HD  PG-13 - Teens 13 tuổi trở lên   \n",
              "4  Nhật Bản       643      HD  PG-13 - Teens 13 tuổi trở lên   \n",
              "\n",
              "                 studio  season  year  \n",
              "0                   OLM  Mùa Hạ  2023  \n",
              "1             GEEK TOYS  Mùa Hạ  2023  \n",
              "2           CloverWorks  Mùa Hạ  2023  \n",
              "3                Gekkou  Mùa Hạ  2023  \n",
              "4  Staple Entertainment  Mùa Hạ  2023  "
            ],
            "text/html": [
              "\n",
              "\n",
              "  <div id=\"df-a7887923-5ba8-4f79-afd1-773eff9f72f7\">\n",
              "    <div class=\"colab-df-container\">\n",
              "      <div>\n",
              "<style scoped>\n",
              "    .dataframe tbody tr th:only-of-type {\n",
              "        vertical-align: middle;\n",
              "    }\n",
              "\n",
              "    .dataframe tbody tr th {\n",
              "        vertical-align: top;\n",
              "    }\n",
              "\n",
              "    .dataframe thead th {\n",
              "        text-align: right;\n",
              "    }\n",
              "</style>\n",
              "<table border=\"1\" class=\"dataframe\">\n",
              "  <thead>\n",
              "    <tr style=\"text-align: right;\">\n",
              "      <th></th>\n",
              "      <th>name</th>\n",
              "      <th>description</th>\n",
              "      <th>voting</th>\n",
              "      <th>duration</th>\n",
              "      <th>view</th>\n",
              "      <th>status</th>\n",
              "      <th>genre</th>\n",
              "      <th>director</th>\n",
              "      <th>country</th>\n",
              "      <th>follower</th>\n",
              "      <th>quality</th>\n",
              "      <th>rating</th>\n",
              "      <th>studio</th>\n",
              "      <th>season</th>\n",
              "      <th>year</th>\n",
              "    </tr>\n",
              "  </thead>\n",
              "  <tbody>\n",
              "    <tr>\n",
              "      <th>0</th>\n",
              "      <td>Dark Gathering</td>\n",
              "      <td>Keitarou, chàng trai có khả năng thu hút ma qu...</td>\n",
              "      <td>0.95</td>\n",
              "      <td>01/25</td>\n",
              "      <td>36088</td>\n",
              "      <td>Phim đang chiếu/Cập Nhật Tập 01 VietSub</td>\n",
              "      <td>[Anime bộ, Shounen, Supernatural, Horror]</td>\n",
              "      <td>Hiroshi Ikehata</td>\n",
              "      <td>Nhật Bản</td>\n",
              "      <td>34</td>\n",
              "      <td>HD</td>\n",
              "      <td>R - 17+ (bạo lực và tục tĩu)</td>\n",
              "      <td>OLM</td>\n",
              "      <td>Mùa Hạ</td>\n",
              "      <td>2023</td>\n",
              "    </tr>\n",
              "    <tr>\n",
              "      <th>1</th>\n",
              "      <td>Trò Chơi Nói Dối</td>\n",
              "      <td>Đảo học viện, nơi các học sinh mở ra những trậ...</td>\n",
              "      <td>0.94</td>\n",
              "      <td>02/12</td>\n",
              "      <td>173964</td>\n",
              "      <td>Phim đang chiếu/Cập Nhật Tập 02 VietSub</td>\n",
              "      <td>[Anime bộ, Sci-Fi, School, Romance, Psychologi...</td>\n",
              "      <td>Oono Satoru</td>\n",
              "      <td>Nhật Bản</td>\n",
              "      <td>222</td>\n",
              "      <td>HD</td>\n",
              "      <td>PG-13 - Teens 13 tuổi trở lên</td>\n",
              "      <td>GEEK TOYS</td>\n",
              "      <td>Mùa Hạ</td>\n",
              "      <td>2023</td>\n",
              "    </tr>\n",
              "    <tr>\n",
              "      <th>2</th>\n",
              "      <td>Horimiya: Piece</td>\n",
              "      <td>Chuyển thể những phần ở manga bị cắt trong TV ...</td>\n",
              "      <td>0.91</td>\n",
              "      <td>02/13</td>\n",
              "      <td>584019</td>\n",
              "      <td>Phim đang chiếu/Cập Nhật Tập 02 VietSub</td>\n",
              "      <td>[Anime bộ, Shounen, School, Romance, Slice of ...</td>\n",
              "      <td>Ishihama Masashi</td>\n",
              "      <td>Nhật Bản</td>\n",
              "      <td>497</td>\n",
              "      <td>HD</td>\n",
              "      <td>PG-13 - Teens 13 tuổi trở lên</td>\n",
              "      <td>CloverWorks</td>\n",
              "      <td>Mùa Hạ</td>\n",
              "      <td>2023</td>\n",
              "    </tr>\n",
              "    <tr>\n",
              "      <th>3</th>\n",
              "      <td>Temple</td>\n",
              "      <td>Đúng vậy. Tôi sẽ trở thành một nhà sư! Không b...</td>\n",
              "      <td>0.97</td>\n",
              "      <td>01/12</td>\n",
              "      <td>86385</td>\n",
              "      <td>Phim đang chiếu/Cập Nhật Tập 01 VietSub</td>\n",
              "      <td>[Anime bộ, Romance, Slice of Life, Harem, Ecch...</td>\n",
              "      <td>Koga Kazuomi</td>\n",
              "      <td>Nhật Bản</td>\n",
              "      <td>139</td>\n",
              "      <td>HD</td>\n",
              "      <td>PG-13 - Teens 13 tuổi trở lên</td>\n",
              "      <td>Gekkou</td>\n",
              "      <td>Mùa Hạ</td>\n",
              "      <td>2023</td>\n",
              "    </tr>\n",
              "    <tr>\n",
              "      <th>4</th>\n",
              "      <td>Tôi Có Thực Sự Là Người Mạnh Nhất Không?</td>\n",
              "      <td>Một thanh niên bị bắt nạt được tái sinh ở thế ...</td>\n",
              "      <td>0.89</td>\n",
              "      <td>02/12</td>\n",
              "      <td>555460</td>\n",
              "      <td>Phim đang chiếu/Cập Nhật Tập 02 VietSub</td>\n",
              "      <td>[Anime bộ, Shounen, Romance, Fantasy, Comedy, ...</td>\n",
              "      <td>Naoya Takashi</td>\n",
              "      <td>Nhật Bản</td>\n",
              "      <td>643</td>\n",
              "      <td>HD</td>\n",
              "      <td>PG-13 - Teens 13 tuổi trở lên</td>\n",
              "      <td>Staple Entertainment</td>\n",
              "      <td>Mùa Hạ</td>\n",
              "      <td>2023</td>\n",
              "    </tr>\n",
              "  </tbody>\n",
              "</table>\n",
              "</div>\n",
              "      <button class=\"colab-df-convert\" onclick=\"convertToInteractive('df-a7887923-5ba8-4f79-afd1-773eff9f72f7')\"\n",
              "              title=\"Convert this dataframe to an interactive table.\"\n",
              "              style=\"display:none;\">\n",
              "\n",
              "  <svg xmlns=\"http://www.w3.org/2000/svg\" height=\"24px\"viewBox=\"0 0 24 24\"\n",
              "       width=\"24px\">\n",
              "    <path d=\"M0 0h24v24H0V0z\" fill=\"none\"/>\n",
              "    <path d=\"M18.56 5.44l.94 2.06.94-2.06 2.06-.94-2.06-.94-.94-2.06-.94 2.06-2.06.94zm-11 1L8.5 8.5l.94-2.06 2.06-.94-2.06-.94L8.5 2.5l-.94 2.06-2.06.94zm10 10l.94 2.06.94-2.06 2.06-.94-2.06-.94-.94-2.06-.94 2.06-2.06.94z\"/><path d=\"M17.41 7.96l-1.37-1.37c-.4-.4-.92-.59-1.43-.59-.52 0-1.04.2-1.43.59L10.3 9.45l-7.72 7.72c-.78.78-.78 2.05 0 2.83L4 21.41c.39.39.9.59 1.41.59.51 0 1.02-.2 1.41-.59l7.78-7.78 2.81-2.81c.8-.78.8-2.07 0-2.86zM5.41 20L4 18.59l7.72-7.72 1.47 1.35L5.41 20z\"/>\n",
              "  </svg>\n",
              "      </button>\n",
              "\n",
              "\n",
              "\n",
              "    <div id=\"df-8ba38593-94cd-42c4-9834-81ec5fda5c95\">\n",
              "      <button class=\"colab-df-quickchart\" onclick=\"quickchart('df-8ba38593-94cd-42c4-9834-81ec5fda5c95')\"\n",
              "              title=\"Suggest charts.\"\n",
              "              style=\"display:none;\">\n",
              "\n",
              "<svg xmlns=\"http://www.w3.org/2000/svg\" height=\"24px\"viewBox=\"0 0 24 24\"\n",
              "     width=\"24px\">\n",
              "    <g>\n",
              "        <path d=\"M19 3H5c-1.1 0-2 .9-2 2v14c0 1.1.9 2 2 2h14c1.1 0 2-.9 2-2V5c0-1.1-.9-2-2-2zM9 17H7v-7h2v7zm4 0h-2V7h2v10zm4 0h-2v-4h2v4z\"/>\n",
              "    </g>\n",
              "</svg>\n",
              "      </button>\n",
              "    </div>\n",
              "\n",
              "<style>\n",
              "  .colab-df-quickchart {\n",
              "    background-color: #E8F0FE;\n",
              "    border: none;\n",
              "    border-radius: 50%;\n",
              "    cursor: pointer;\n",
              "    display: none;\n",
              "    fill: #1967D2;\n",
              "    height: 32px;\n",
              "    padding: 0 0 0 0;\n",
              "    width: 32px;\n",
              "  }\n",
              "\n",
              "  .colab-df-quickchart:hover {\n",
              "    background-color: #E2EBFA;\n",
              "    box-shadow: 0px 1px 2px rgba(60, 64, 67, 0.3), 0px 1px 3px 1px rgba(60, 64, 67, 0.15);\n",
              "    fill: #174EA6;\n",
              "  }\n",
              "\n",
              "  [theme=dark] .colab-df-quickchart {\n",
              "    background-color: #3B4455;\n",
              "    fill: #D2E3FC;\n",
              "  }\n",
              "\n",
              "  [theme=dark] .colab-df-quickchart:hover {\n",
              "    background-color: #434B5C;\n",
              "    box-shadow: 0px 1px 3px 1px rgba(0, 0, 0, 0.15);\n",
              "    filter: drop-shadow(0px 1px 2px rgba(0, 0, 0, 0.3));\n",
              "    fill: #FFFFFF;\n",
              "  }\n",
              "</style>\n",
              "\n",
              "    <script>\n",
              "      async function quickchart(key) {\n",
              "        const containerElement = document.querySelector('#' + key);\n",
              "        const charts = await google.colab.kernel.invokeFunction(\n",
              "            'suggestCharts', [key], {});\n",
              "      }\n",
              "    </script>\n",
              "\n",
              "      <script>\n",
              "\n",
              "function displayQuickchartButton(domScope) {\n",
              "  let quickchartButtonEl =\n",
              "    domScope.querySelector('#df-8ba38593-94cd-42c4-9834-81ec5fda5c95 button.colab-df-quickchart');\n",
              "  quickchartButtonEl.style.display =\n",
              "    google.colab.kernel.accessAllowed ? 'block' : 'none';\n",
              "}\n",
              "\n",
              "        displayQuickchartButton(document);\n",
              "      </script>\n",
              "      <style>\n",
              "    .colab-df-container {\n",
              "      display:flex;\n",
              "      flex-wrap:wrap;\n",
              "      gap: 12px;\n",
              "    }\n",
              "\n",
              "    .colab-df-convert {\n",
              "      background-color: #E8F0FE;\n",
              "      border: none;\n",
              "      border-radius: 50%;\n",
              "      cursor: pointer;\n",
              "      display: none;\n",
              "      fill: #1967D2;\n",
              "      height: 32px;\n",
              "      padding: 0 0 0 0;\n",
              "      width: 32px;\n",
              "    }\n",
              "\n",
              "    .colab-df-convert:hover {\n",
              "      background-color: #E2EBFA;\n",
              "      box-shadow: 0px 1px 2px rgba(60, 64, 67, 0.3), 0px 1px 3px 1px rgba(60, 64, 67, 0.15);\n",
              "      fill: #174EA6;\n",
              "    }\n",
              "\n",
              "    [theme=dark] .colab-df-convert {\n",
              "      background-color: #3B4455;\n",
              "      fill: #D2E3FC;\n",
              "    }\n",
              "\n",
              "    [theme=dark] .colab-df-convert:hover {\n",
              "      background-color: #434B5C;\n",
              "      box-shadow: 0px 1px 3px 1px rgba(0, 0, 0, 0.15);\n",
              "      filter: drop-shadow(0px 1px 2px rgba(0, 0, 0, 0.3));\n",
              "      fill: #FFFFFF;\n",
              "    }\n",
              "  </style>\n",
              "\n",
              "      <script>\n",
              "        const buttonEl =\n",
              "          document.querySelector('#df-a7887923-5ba8-4f79-afd1-773eff9f72f7 button.colab-df-convert');\n",
              "        buttonEl.style.display =\n",
              "          google.colab.kernel.accessAllowed ? 'block' : 'none';\n",
              "\n",
              "        async function convertToInteractive(key) {\n",
              "          const element = document.querySelector('#df-a7887923-5ba8-4f79-afd1-773eff9f72f7');\n",
              "          const dataTable =\n",
              "            await google.colab.kernel.invokeFunction('convertToInteractive',\n",
              "                                                     [key], {});\n",
              "          if (!dataTable) return;\n",
              "\n",
              "          const docLinkHtml = 'Like what you see? Visit the ' +\n",
              "            '<a target=\"_blank\" href=https://colab.research.google.com/notebooks/data_table.ipynb>data table notebook</a>'\n",
              "            + ' to learn more about interactive tables.';\n",
              "          element.innerHTML = '';\n",
              "          dataTable['output_type'] = 'display_data';\n",
              "          await google.colab.output.renderOutput(dataTable, element);\n",
              "          const docLink = document.createElement('div');\n",
              "          docLink.innerHTML = docLinkHtml;\n",
              "          element.appendChild(docLink);\n",
              "        }\n",
              "      </script>\n",
              "    </div>\n",
              "  </div>\n"
            ]
          },
          "metadata": {},
          "execution_count": 68
        }
      ]
    },
    {
      "cell_type": "markdown",
      "source": [
        "###Xử lý một số trường dữ liệu khác"
      ],
      "metadata": {
        "id": "Cw9yDFYB-aJI"
      }
    },
    {
      "cell_type": "markdown",
      "source": [
        "####1. Rating"
      ],
      "metadata": {
        "id": "cNAY0wCuap0O"
      }
    },
    {
      "cell_type": "code",
      "source": [
        "data['rating'].value_counts(dropna=False)"
      ],
      "metadata": {
        "colab": {
          "base_uri": "https://localhost:8080/"
        },
        "id": "wklDU91H-dl-",
        "outputId": "5b51f3a2-cb7c-46d7-c078-d658b16d19a1"
      },
      "execution_count": null,
      "outputs": [
        {
          "output_type": "execute_result",
          "data": {
            "text/plain": [
              "PG-13 - Teens 13 tuổi trở lên    2851\n",
              "R - 17+ (bạo lực và tục tĩu)      564\n",
              "None                              515\n",
              "R+ - Dành cho 16 tuổi trở lên     365\n",
              "G - Mọi lứa tuổi                  220\n",
              "PG - Trẻ em                       192\n",
              "N/A                               133\n",
              "PG-13 - Teens 13 or older           6\n",
              "Đang Cập Nhập                       3\n",
              "13+ - Teens 13 or older             3\n",
              "R+ 17                               2\n",
              "undefined                           1\n",
              "R + - Ảnh khỏa thân nhẹ             1\n",
              "Rx - Hentai                         1\n",
              "PG-13                               1\n",
              "Nona                                1\n",
              "PG - Children                       1\n",
              "Đang cập nhập                       1\n",
              "Name: rating, dtype: int64"
            ]
          },
          "metadata": {},
          "execution_count": 69
        }
      ]
    },
    {
      "cell_type": "markdown",
      "source": [
        "Ta sẽ đồng nhất một số giá trị tương đương với nhau"
      ],
      "metadata": {
        "id": "19tAH8CT_OB5"
      }
    },
    {
      "cell_type": "code",
      "source": [
        "def normalize_rating(x):\n",
        "    if x == 'PG-13' or x == 'PG-13 - Teens 13 or older':\n",
        "        x = 'PG-13 - Teens 13 tuổi trở lên'\n",
        "        return x\n",
        "\n",
        "    if x == '13+ - Teens 13 or older':\n",
        "        x = '13+ - Teens 13 tuổi trở lên'\n",
        "        return x\n",
        "\n",
        "    if x == 'PG - Children':\n",
        "        x = 'PG - Trẻ em'\n",
        "        return x\n",
        "\n",
        "    if x == 'Đang cập nhập' or x == 'Đang Cập Nhập' or x == 'Nona' or x == 'N/A' or x == 'None' or x == 'undefined':\n",
        "        x = 'Đang cập nhật'\n",
        "        return x\n",
        "\n",
        "    return x"
      ],
      "metadata": {
        "id": "k9IJEcv0Tg2h"
      },
      "execution_count": null,
      "outputs": []
    },
    {
      "cell_type": "code",
      "source": [
        "data['rating'] = data['rating'].apply(lambda x: normalize_rating(x))"
      ],
      "metadata": {
        "id": "Bi1ag-v7UdYN"
      },
      "execution_count": null,
      "outputs": []
    },
    {
      "cell_type": "code",
      "source": [
        "data['rating'].value_counts(dropna=False)"
      ],
      "metadata": {
        "colab": {
          "base_uri": "https://localhost:8080/"
        },
        "id": "ccWI8l3TIkNH",
        "outputId": "89e7cf04-92ce-4cdb-f735-2e22c7434ef7"
      },
      "execution_count": null,
      "outputs": [
        {
          "output_type": "execute_result",
          "data": {
            "text/plain": [
              "PG-13 - Teens 13 tuổi trở lên    2857\n",
              "Đang cập nhật                     654\n",
              "R - 17+ (bạo lực và tục tĩu)      564\n",
              "R+ - Dành cho 16 tuổi trở lên     365\n",
              "G - Mọi lứa tuổi                  220\n",
              "PG - Trẻ em                       193\n",
              "13+ - Teens 13 tuổi trở lên         3\n",
              "R+ 17                               2\n",
              "Rx - Hentai                         1\n",
              "R + - Ảnh khỏa thân nhẹ             1\n",
              "Name: rating, dtype: int64"
            ]
          },
          "metadata": {},
          "execution_count": 99
        }
      ]
    },
    {
      "cell_type": "markdown",
      "source": [
        "####2. Quality"
      ],
      "metadata": {
        "id": "0Jovx1gZbZun"
      }
    },
    {
      "cell_type": "code",
      "source": [
        "data['quality'].value_counts(dropna=False)"
      ],
      "metadata": {
        "colab": {
          "base_uri": "https://localhost:8080/"
        },
        "id": "pNNRKORqJADV",
        "outputId": "87c46953-e3c1-467b-e082-d5150a67ce03"
      },
      "execution_count": null,
      "outputs": [
        {
          "output_type": "execute_result",
          "data": {
            "text/plain": [
              "HD                4163\n",
              "BD                 279\n",
              "SD                 230\n",
              "FHD                122\n",
              "BD/Bluray           33\n",
              "HQ                  23\n",
              "Full HD              2\n",
              "hd                   1\n",
              "26/10/2018           1\n",
              "None                 1\n",
              "Bluray Disc          1\n",
              "rHD                  1\n",
              "CAM HD               1\n",
              "BD Vietsub           1\n",
              "OVA BD Vietsub       1\n",
              "480P                 1\n",
              "Name: quality, dtype: int64"
            ]
          },
          "metadata": {},
          "execution_count": 73
        }
      ]
    },
    {
      "cell_type": "code",
      "source": [
        "data['quality'] = data['quality'].replace('hd', 'HD')\n",
        "data = data.drop(data[data['quality'] == '26/10/2018'].index)"
      ],
      "metadata": {
        "id": "E6HSS6K8JLaK"
      },
      "execution_count": null,
      "outputs": []
    },
    {
      "cell_type": "code",
      "source": [
        "data['quality'].value_counts(dropna=False)"
      ],
      "metadata": {
        "colab": {
          "base_uri": "https://localhost:8080/"
        },
        "id": "y52KdF2sJ13o",
        "outputId": "2777eab7-ceef-4971-a2c2-f4ec2829cd01"
      },
      "execution_count": null,
      "outputs": [
        {
          "output_type": "execute_result",
          "data": {
            "text/plain": [
              "HD                4164\n",
              "BD                 279\n",
              "SD                 230\n",
              "FHD                122\n",
              "BD/Bluray           33\n",
              "HQ                  23\n",
              "Full HD              2\n",
              "None                 1\n",
              "Bluray Disc          1\n",
              "rHD                  1\n",
              "CAM HD               1\n",
              "BD Vietsub           1\n",
              "OVA BD Vietsub       1\n",
              "480P                 1\n",
              "Name: quality, dtype: int64"
            ]
          },
          "metadata": {},
          "execution_count": 98
        }
      ]
    },
    {
      "cell_type": "markdown",
      "source": [
        "####3. Genre"
      ],
      "metadata": {
        "id": "RqGiiXbGbgyR"
      }
    },
    {
      "cell_type": "markdown",
      "source": [
        "Dựa trên **genre**, có thể tách thêm thuộc tính thể loại bao gồm phim bộ/lẻ"
      ],
      "metadata": {
        "id": "3yqKMvEOR7sC"
      }
    },
    {
      "cell_type": "code",
      "source": [
        "data['type'] = data['genre'].apply(lambda x: x.pop(0))"
      ],
      "metadata": {
        "id": "AY0iPvHdDLS7"
      },
      "execution_count": null,
      "outputs": []
    },
    {
      "cell_type": "code",
      "source": [
        "data.head()"
      ],
      "metadata": {
        "colab": {
          "base_uri": "https://localhost:8080/",
          "height": 527
        },
        "id": "eVCjxplbKX5p",
        "outputId": "149588de-c385-4332-ac21-bbc015e56b86"
      },
      "execution_count": null,
      "outputs": [
        {
          "output_type": "execute_result",
          "data": {
            "text/plain": [
              "                                       name  \\\n",
              "0                            Dark Gathering   \n",
              "1                          Trò Chơi Nói Dối   \n",
              "2                           Horimiya: Piece   \n",
              "3                                    Temple   \n",
              "4  Tôi Có Thực Sự Là Người Mạnh Nhất Không?   \n",
              "\n",
              "                                         description  voting duration    view  \\\n",
              "0  Keitarou, chàng trai có khả năng thu hút ma qu...    0.95    01/25   36088   \n",
              "1  Đảo học viện, nơi các học sinh mở ra những trậ...    0.94    02/12  173964   \n",
              "2  Chuyển thể những phần ở manga bị cắt trong TV ...    0.91    02/13  584019   \n",
              "3  Đúng vậy. Tôi sẽ trở thành một nhà sư! Không b...    0.97    01/12   86385   \n",
              "4  Một thanh niên bị bắt nạt được tái sinh ở thế ...    0.89    02/12  555460   \n",
              "\n",
              "                                    status  \\\n",
              "0  Phim đang chiếu/Cập Nhật Tập 01 VietSub   \n",
              "1  Phim đang chiếu/Cập Nhật Tập 02 VietSub   \n",
              "2  Phim đang chiếu/Cập Nhật Tập 02 VietSub   \n",
              "3  Phim đang chiếu/Cập Nhật Tập 01 VietSub   \n",
              "4  Phim đang chiếu/Cập Nhật Tập 02 VietSub   \n",
              "\n",
              "                                               genre          director  \\\n",
              "0                    [Shounen, Supernatural, Horror]   Hiroshi Ikehata   \n",
              "1  [Sci-Fi, School, Romance, Psychological, Game,...       Oono Satoru   \n",
              "2  [Shounen, School, Romance, Slice of Life, Comedy]  Ishihama Masashi   \n",
              "3     [Romance, Slice of Life, Harem, Ecchi, Comedy]      Koga Kazuomi   \n",
              "4     [Shounen, Romance, Fantasy, Comedy, Adventure]     Naoya Takashi   \n",
              "\n",
              "    country  follower quality                         rating  \\\n",
              "0  Nhật Bản        34      HD   R - 17+ (bạo lực và tục tĩu)   \n",
              "1  Nhật Bản       222      HD  PG-13 - Teens 13 tuổi trở lên   \n",
              "2  Nhật Bản       497      HD  PG-13 - Teens 13 tuổi trở lên   \n",
              "3  Nhật Bản       139      HD  PG-13 - Teens 13 tuổi trở lên   \n",
              "4  Nhật Bản       643      HD  PG-13 - Teens 13 tuổi trở lên   \n",
              "\n",
              "                 studio  season  year      type  \n",
              "0                   OLM  Mùa Hạ  2023  Anime bộ  \n",
              "1             GEEK TOYS  Mùa Hạ  2023  Anime bộ  \n",
              "2           CloverWorks  Mùa Hạ  2023  Anime bộ  \n",
              "3                Gekkou  Mùa Hạ  2023  Anime bộ  \n",
              "4  Staple Entertainment  Mùa Hạ  2023  Anime bộ  "
            ],
            "text/html": [
              "\n",
              "\n",
              "  <div id=\"df-fa455f50-d052-42bd-93c5-a390a60b906a\">\n",
              "    <div class=\"colab-df-container\">\n",
              "      <div>\n",
              "<style scoped>\n",
              "    .dataframe tbody tr th:only-of-type {\n",
              "        vertical-align: middle;\n",
              "    }\n",
              "\n",
              "    .dataframe tbody tr th {\n",
              "        vertical-align: top;\n",
              "    }\n",
              "\n",
              "    .dataframe thead th {\n",
              "        text-align: right;\n",
              "    }\n",
              "</style>\n",
              "<table border=\"1\" class=\"dataframe\">\n",
              "  <thead>\n",
              "    <tr style=\"text-align: right;\">\n",
              "      <th></th>\n",
              "      <th>name</th>\n",
              "      <th>description</th>\n",
              "      <th>voting</th>\n",
              "      <th>duration</th>\n",
              "      <th>view</th>\n",
              "      <th>status</th>\n",
              "      <th>genre</th>\n",
              "      <th>director</th>\n",
              "      <th>country</th>\n",
              "      <th>follower</th>\n",
              "      <th>quality</th>\n",
              "      <th>rating</th>\n",
              "      <th>studio</th>\n",
              "      <th>season</th>\n",
              "      <th>year</th>\n",
              "      <th>type</th>\n",
              "    </tr>\n",
              "  </thead>\n",
              "  <tbody>\n",
              "    <tr>\n",
              "      <th>0</th>\n",
              "      <td>Dark Gathering</td>\n",
              "      <td>Keitarou, chàng trai có khả năng thu hút ma qu...</td>\n",
              "      <td>0.95</td>\n",
              "      <td>01/25</td>\n",
              "      <td>36088</td>\n",
              "      <td>Phim đang chiếu/Cập Nhật Tập 01 VietSub</td>\n",
              "      <td>[Shounen, Supernatural, Horror]</td>\n",
              "      <td>Hiroshi Ikehata</td>\n",
              "      <td>Nhật Bản</td>\n",
              "      <td>34</td>\n",
              "      <td>HD</td>\n",
              "      <td>R - 17+ (bạo lực và tục tĩu)</td>\n",
              "      <td>OLM</td>\n",
              "      <td>Mùa Hạ</td>\n",
              "      <td>2023</td>\n",
              "      <td>Anime bộ</td>\n",
              "    </tr>\n",
              "    <tr>\n",
              "      <th>1</th>\n",
              "      <td>Trò Chơi Nói Dối</td>\n",
              "      <td>Đảo học viện, nơi các học sinh mở ra những trậ...</td>\n",
              "      <td>0.94</td>\n",
              "      <td>02/12</td>\n",
              "      <td>173964</td>\n",
              "      <td>Phim đang chiếu/Cập Nhật Tập 02 VietSub</td>\n",
              "      <td>[Sci-Fi, School, Romance, Psychological, Game,...</td>\n",
              "      <td>Oono Satoru</td>\n",
              "      <td>Nhật Bản</td>\n",
              "      <td>222</td>\n",
              "      <td>HD</td>\n",
              "      <td>PG-13 - Teens 13 tuổi trở lên</td>\n",
              "      <td>GEEK TOYS</td>\n",
              "      <td>Mùa Hạ</td>\n",
              "      <td>2023</td>\n",
              "      <td>Anime bộ</td>\n",
              "    </tr>\n",
              "    <tr>\n",
              "      <th>2</th>\n",
              "      <td>Horimiya: Piece</td>\n",
              "      <td>Chuyển thể những phần ở manga bị cắt trong TV ...</td>\n",
              "      <td>0.91</td>\n",
              "      <td>02/13</td>\n",
              "      <td>584019</td>\n",
              "      <td>Phim đang chiếu/Cập Nhật Tập 02 VietSub</td>\n",
              "      <td>[Shounen, School, Romance, Slice of Life, Comedy]</td>\n",
              "      <td>Ishihama Masashi</td>\n",
              "      <td>Nhật Bản</td>\n",
              "      <td>497</td>\n",
              "      <td>HD</td>\n",
              "      <td>PG-13 - Teens 13 tuổi trở lên</td>\n",
              "      <td>CloverWorks</td>\n",
              "      <td>Mùa Hạ</td>\n",
              "      <td>2023</td>\n",
              "      <td>Anime bộ</td>\n",
              "    </tr>\n",
              "    <tr>\n",
              "      <th>3</th>\n",
              "      <td>Temple</td>\n",
              "      <td>Đúng vậy. Tôi sẽ trở thành một nhà sư! Không b...</td>\n",
              "      <td>0.97</td>\n",
              "      <td>01/12</td>\n",
              "      <td>86385</td>\n",
              "      <td>Phim đang chiếu/Cập Nhật Tập 01 VietSub</td>\n",
              "      <td>[Romance, Slice of Life, Harem, Ecchi, Comedy]</td>\n",
              "      <td>Koga Kazuomi</td>\n",
              "      <td>Nhật Bản</td>\n",
              "      <td>139</td>\n",
              "      <td>HD</td>\n",
              "      <td>PG-13 - Teens 13 tuổi trở lên</td>\n",
              "      <td>Gekkou</td>\n",
              "      <td>Mùa Hạ</td>\n",
              "      <td>2023</td>\n",
              "      <td>Anime bộ</td>\n",
              "    </tr>\n",
              "    <tr>\n",
              "      <th>4</th>\n",
              "      <td>Tôi Có Thực Sự Là Người Mạnh Nhất Không?</td>\n",
              "      <td>Một thanh niên bị bắt nạt được tái sinh ở thế ...</td>\n",
              "      <td>0.89</td>\n",
              "      <td>02/12</td>\n",
              "      <td>555460</td>\n",
              "      <td>Phim đang chiếu/Cập Nhật Tập 02 VietSub</td>\n",
              "      <td>[Shounen, Romance, Fantasy, Comedy, Adventure]</td>\n",
              "      <td>Naoya Takashi</td>\n",
              "      <td>Nhật Bản</td>\n",
              "      <td>643</td>\n",
              "      <td>HD</td>\n",
              "      <td>PG-13 - Teens 13 tuổi trở lên</td>\n",
              "      <td>Staple Entertainment</td>\n",
              "      <td>Mùa Hạ</td>\n",
              "      <td>2023</td>\n",
              "      <td>Anime bộ</td>\n",
              "    </tr>\n",
              "  </tbody>\n",
              "</table>\n",
              "</div>\n",
              "      <button class=\"colab-df-convert\" onclick=\"convertToInteractive('df-fa455f50-d052-42bd-93c5-a390a60b906a')\"\n",
              "              title=\"Convert this dataframe to an interactive table.\"\n",
              "              style=\"display:none;\">\n",
              "\n",
              "  <svg xmlns=\"http://www.w3.org/2000/svg\" height=\"24px\"viewBox=\"0 0 24 24\"\n",
              "       width=\"24px\">\n",
              "    <path d=\"M0 0h24v24H0V0z\" fill=\"none\"/>\n",
              "    <path d=\"M18.56 5.44l.94 2.06.94-2.06 2.06-.94-2.06-.94-.94-2.06-.94 2.06-2.06.94zm-11 1L8.5 8.5l.94-2.06 2.06-.94-2.06-.94L8.5 2.5l-.94 2.06-2.06.94zm10 10l.94 2.06.94-2.06 2.06-.94-2.06-.94-.94-2.06-.94 2.06-2.06.94z\"/><path d=\"M17.41 7.96l-1.37-1.37c-.4-.4-.92-.59-1.43-.59-.52 0-1.04.2-1.43.59L10.3 9.45l-7.72 7.72c-.78.78-.78 2.05 0 2.83L4 21.41c.39.39.9.59 1.41.59.51 0 1.02-.2 1.41-.59l7.78-7.78 2.81-2.81c.8-.78.8-2.07 0-2.86zM5.41 20L4 18.59l7.72-7.72 1.47 1.35L5.41 20z\"/>\n",
              "  </svg>\n",
              "      </button>\n",
              "\n",
              "\n",
              "\n",
              "    <div id=\"df-b48718f5-15a2-4d22-8f3f-60fab227bda3\">\n",
              "      <button class=\"colab-df-quickchart\" onclick=\"quickchart('df-b48718f5-15a2-4d22-8f3f-60fab227bda3')\"\n",
              "              title=\"Suggest charts.\"\n",
              "              style=\"display:none;\">\n",
              "\n",
              "<svg xmlns=\"http://www.w3.org/2000/svg\" height=\"24px\"viewBox=\"0 0 24 24\"\n",
              "     width=\"24px\">\n",
              "    <g>\n",
              "        <path d=\"M19 3H5c-1.1 0-2 .9-2 2v14c0 1.1.9 2 2 2h14c1.1 0 2-.9 2-2V5c0-1.1-.9-2-2-2zM9 17H7v-7h2v7zm4 0h-2V7h2v10zm4 0h-2v-4h2v4z\"/>\n",
              "    </g>\n",
              "</svg>\n",
              "      </button>\n",
              "    </div>\n",
              "\n",
              "<style>\n",
              "  .colab-df-quickchart {\n",
              "    background-color: #E8F0FE;\n",
              "    border: none;\n",
              "    border-radius: 50%;\n",
              "    cursor: pointer;\n",
              "    display: none;\n",
              "    fill: #1967D2;\n",
              "    height: 32px;\n",
              "    padding: 0 0 0 0;\n",
              "    width: 32px;\n",
              "  }\n",
              "\n",
              "  .colab-df-quickchart:hover {\n",
              "    background-color: #E2EBFA;\n",
              "    box-shadow: 0px 1px 2px rgba(60, 64, 67, 0.3), 0px 1px 3px 1px rgba(60, 64, 67, 0.15);\n",
              "    fill: #174EA6;\n",
              "  }\n",
              "\n",
              "  [theme=dark] .colab-df-quickchart {\n",
              "    background-color: #3B4455;\n",
              "    fill: #D2E3FC;\n",
              "  }\n",
              "\n",
              "  [theme=dark] .colab-df-quickchart:hover {\n",
              "    background-color: #434B5C;\n",
              "    box-shadow: 0px 1px 3px 1px rgba(0, 0, 0, 0.15);\n",
              "    filter: drop-shadow(0px 1px 2px rgba(0, 0, 0, 0.3));\n",
              "    fill: #FFFFFF;\n",
              "  }\n",
              "</style>\n",
              "\n",
              "    <script>\n",
              "      async function quickchart(key) {\n",
              "        const containerElement = document.querySelector('#' + key);\n",
              "        const charts = await google.colab.kernel.invokeFunction(\n",
              "            'suggestCharts', [key], {});\n",
              "      }\n",
              "    </script>\n",
              "\n",
              "      <script>\n",
              "\n",
              "function displayQuickchartButton(domScope) {\n",
              "  let quickchartButtonEl =\n",
              "    domScope.querySelector('#df-b48718f5-15a2-4d22-8f3f-60fab227bda3 button.colab-df-quickchart');\n",
              "  quickchartButtonEl.style.display =\n",
              "    google.colab.kernel.accessAllowed ? 'block' : 'none';\n",
              "}\n",
              "\n",
              "        displayQuickchartButton(document);\n",
              "      </script>\n",
              "      <style>\n",
              "    .colab-df-container {\n",
              "      display:flex;\n",
              "      flex-wrap:wrap;\n",
              "      gap: 12px;\n",
              "    }\n",
              "\n",
              "    .colab-df-convert {\n",
              "      background-color: #E8F0FE;\n",
              "      border: none;\n",
              "      border-radius: 50%;\n",
              "      cursor: pointer;\n",
              "      display: none;\n",
              "      fill: #1967D2;\n",
              "      height: 32px;\n",
              "      padding: 0 0 0 0;\n",
              "      width: 32px;\n",
              "    }\n",
              "\n",
              "    .colab-df-convert:hover {\n",
              "      background-color: #E2EBFA;\n",
              "      box-shadow: 0px 1px 2px rgba(60, 64, 67, 0.3), 0px 1px 3px 1px rgba(60, 64, 67, 0.15);\n",
              "      fill: #174EA6;\n",
              "    }\n",
              "\n",
              "    [theme=dark] .colab-df-convert {\n",
              "      background-color: #3B4455;\n",
              "      fill: #D2E3FC;\n",
              "    }\n",
              "\n",
              "    [theme=dark] .colab-df-convert:hover {\n",
              "      background-color: #434B5C;\n",
              "      box-shadow: 0px 1px 3px 1px rgba(0, 0, 0, 0.15);\n",
              "      filter: drop-shadow(0px 1px 2px rgba(0, 0, 0, 0.3));\n",
              "      fill: #FFFFFF;\n",
              "    }\n",
              "  </style>\n",
              "\n",
              "      <script>\n",
              "        const buttonEl =\n",
              "          document.querySelector('#df-fa455f50-d052-42bd-93c5-a390a60b906a button.colab-df-convert');\n",
              "        buttonEl.style.display =\n",
              "          google.colab.kernel.accessAllowed ? 'block' : 'none';\n",
              "\n",
              "        async function convertToInteractive(key) {\n",
              "          const element = document.querySelector('#df-fa455f50-d052-42bd-93c5-a390a60b906a');\n",
              "          const dataTable =\n",
              "            await google.colab.kernel.invokeFunction('convertToInteractive',\n",
              "                                                     [key], {});\n",
              "          if (!dataTable) return;\n",
              "\n",
              "          const docLinkHtml = 'Like what you see? Visit the ' +\n",
              "            '<a target=\"_blank\" href=https://colab.research.google.com/notebooks/data_table.ipynb>data table notebook</a>'\n",
              "            + ' to learn more about interactive tables.';\n",
              "          element.innerHTML = '';\n",
              "          dataTable['output_type'] = 'display_data';\n",
              "          await google.colab.output.renderOutput(dataTable, element);\n",
              "          const docLink = document.createElement('div');\n",
              "          docLink.innerHTML = docLinkHtml;\n",
              "          element.appendChild(docLink);\n",
              "        }\n",
              "      </script>\n",
              "    </div>\n",
              "  </div>\n"
            ]
          },
          "metadata": {},
          "execution_count": 77
        }
      ]
    },
    {
      "cell_type": "markdown",
      "source": [
        "####4. Status"
      ],
      "metadata": {
        "id": "n6x_UkI_bk_x"
      }
    },
    {
      "cell_type": "markdown",
      "source": [
        "Với dữ liệu **status** hiện tại, có thể thấy đối với các phim chưa ra full, trạng thái *Phim đang chiếu* đã đủ để khai thác, số tập đang ra chưa quá quan trọng nên có thể bỏ qua"
      ],
      "metadata": {
        "id": "g26E6iR3SZdj"
      }
    },
    {
      "cell_type": "code",
      "source": [
        "data[data['type'] == 'Anime lẻ']['status'].value_counts(dropna=False)"
      ],
      "metadata": {
        "colab": {
          "base_uri": "https://localhost:8080/"
        },
        "id": "_mf_4SZQCLsT",
        "outputId": "da3f0107-0d8a-49ac-cf56-aab0bdb1b514"
      },
      "execution_count": null,
      "outputs": [
        {
          "output_type": "execute_result",
          "data": {
            "text/plain": [
              "Trọn bộ HD VietSub                  955\n",
              "Trọn bộ SD VietSub                   84\n",
              "Trọn bộ BD VietSub                   65\n",
              "Trọn bộ FHD VietSub                  48\n",
              "Trọn bộ BD/Bluray VietSub             7\n",
              "Trọn bộ VietSub                       6\n",
              "Trọn bộ HQ VietSub                    5\n",
              "Trọn bộ Full HD VietSub               2\n",
              "Trọn bộ CAM HD VietSub                1\n",
              "Trailer                               1\n",
              "Trọn bộ BD Vietsub VietSub            1\n",
              "Trọn bộ OVA BD Vietsub VietSub        1\n",
              "Trọn bộ HD VietSub + Thuyết minh      1\n",
              "Trọn bộ 480P VietSub                  1\n",
              "Trọn bộ HD Thuyết minh                1\n",
              "Name: status, dtype: int64"
            ]
          },
          "metadata": {},
          "execution_count": 78
        }
      ]
    },
    {
      "cell_type": "code",
      "source": [
        "data[data['type'] == 'Anime bộ']['status'].value_counts(dropna=False)"
      ],
      "metadata": {
        "id": "eo6_WC-ObTr2"
      },
      "execution_count": null,
      "outputs": []
    },
    {
      "cell_type": "code",
      "source": [
        "def normalize_status(x):\n",
        "    texts = ['Trọn bộ', 'Full', 'FULL', 'END']\n",
        "\n",
        "    for i in range(len(texts)):\n",
        "        if texts[i] in x:\n",
        "            x = 'Trọn bộ'\n",
        "            return x\n",
        "\n",
        "    x = 'Phim đang chiếu'\n",
        "    return x"
      ],
      "metadata": {
        "id": "smwF4nfwVCj5"
      },
      "execution_count": null,
      "outputs": []
    },
    {
      "cell_type": "code",
      "source": [
        "data['status'] = data['status'].apply(lambda x: normalize_status(x))"
      ],
      "metadata": {
        "id": "lgY5p84yeSBi"
      },
      "execution_count": null,
      "outputs": []
    },
    {
      "cell_type": "code",
      "source": [
        "data['status'].value_counts()"
      ],
      "metadata": {
        "colab": {
          "base_uri": "https://localhost:8080/"
        },
        "id": "6vGRClwdgFbI",
        "outputId": "91807032-2a18-439e-efac-318cebd5e461"
      },
      "execution_count": null,
      "outputs": [
        {
          "output_type": "execute_result",
          "data": {
            "text/plain": [
              "Trọn bộ            4336\n",
              "Phim đang chiếu     524\n",
              "Name: status, dtype: int64"
            ]
          },
          "metadata": {},
          "execution_count": 82
        }
      ]
    },
    {
      "cell_type": "markdown",
      "source": [
        "####5. Duration"
      ],
      "metadata": {
        "id": "UT5QlFYtbq6C"
      }
    },
    {
      "cell_type": "markdown",
      "source": [
        "Đối với trường dữ liệu **duration**, có nhiều vấn đề cần phải xử lý. Đầu tiên, định dạng cho phim lẻ đang bao gồm cả giờ, phút, giây nên cần đưa về 1 đơn vị phù hợp để dễ dàng phân tích (giây). Ngoài ra, với phim gồm nhiều tập đã ra full, cần đưa về đơn vị số tập."
      ],
      "metadata": {
        "id": "s8nEZNK4LzrD"
      }
    },
    {
      "cell_type": "code",
      "source": [
        "data['duration'] = data['duration'].str.lower()"
      ],
      "metadata": {
        "id": "xl-1T9J7MSeE"
      },
      "execution_count": null,
      "outputs": []
    },
    {
      "cell_type": "code",
      "source": [
        "data[data['type'] == 'Anime lẻ']['duration'].value_counts(dropna=False)"
      ],
      "metadata": {
        "id": "sOFp1YlQjT46"
      },
      "execution_count": null,
      "outputs": []
    },
    {
      "cell_type": "code",
      "source": [
        "data[data['type'] == 'Anime bộ']['duration'].value_counts(dropna=False)"
      ],
      "metadata": {
        "id": "sr-2tFbnWadd"
      },
      "execution_count": null,
      "outputs": []
    },
    {
      "cell_type": "code",
      "source": [
        "def normalize_duration(x):\n",
        "    if x == '1h 35p':\n",
        "        x = '1 giờ 35 phút'\n",
        "\n",
        "    if x == '1 hr 59 min':\n",
        "        x = '1 giờ 59 phút'\n",
        "\n",
        "    if 'tiếng' in x:\n",
        "        x = x.replace('tiếng', 'giờ')\n",
        "\n",
        "    return x"
      ],
      "metadata": {
        "id": "dRgDorzWMTZ0"
      },
      "execution_count": null,
      "outputs": []
    },
    {
      "cell_type": "code",
      "source": [
        "data['duration'] = data['duration'].apply(lambda x: normalize_duration(x))"
      ],
      "metadata": {
        "id": "rTHmwX3da1eF"
      },
      "execution_count": null,
      "outputs": []
    },
    {
      "cell_type": "code",
      "source": [
        "def convert_to_minute(x):\n",
        "    time = 0\n",
        "    value = ''\n",
        "    if '/' not in x:\n",
        "        if 'giờ' in x or 'phút' in x or 'giây' in x:\n",
        "            x = x.split()\n",
        "\n",
        "            if 'giờ' in x:\n",
        "                i = x.index('giờ')\n",
        "                time += int(x[i-1])*60\n",
        "\n",
        "            if 'phút' in x:\n",
        "                i = x.index('phút')\n",
        "                time += int(x[i-1])\n",
        "\n",
        "            if 'giây' in x:\n",
        "                i = x.index('giây')\n",
        "                time += round(int(x[i-1])*1/60, 2)\n",
        "\n",
        "            value = str(time) + ' phút'\n",
        "        else:\n",
        "            value = x\n",
        "    else:\n",
        "        value = x\n",
        "\n",
        "    return value"
      ],
      "metadata": {
        "id": "MP1fzoP9bjMf"
      },
      "execution_count": null,
      "outputs": []
    },
    {
      "cell_type": "code",
      "source": [
        "data['duration'] = data['duration'].apply(lambda x: convert_to_minute(x))"
      ],
      "metadata": {
        "id": "DuLTjKJ6jDbv"
      },
      "execution_count": null,
      "outputs": []
    },
    {
      "cell_type": "code",
      "source": [
        "# check giá trị khác biệt\n",
        "for value in data['duration']:\n",
        "    if ('?' not in value) & ('phút' not in value) & (' ' in value) or ('ova' in value):\n",
        "        print(value)\n",
        "        print('\\n')"
      ],
      "metadata": {
        "id": "1r6OXo44pjQ4"
      },
      "execution_count": null,
      "outputs": []
    },
    {
      "cell_type": "code",
      "source": [
        "data['duration'] = data['duration'].replace('25/25 + ova', '26 tập')\n",
        "data['duration'] = data['duration'].replace('14 + ova/14', '15 tập')\n",
        "data['duration'] = data['duration'].replace('sp 02/10', '11 tập')\n",
        "data['duration'] = data['duration'].replace('12/12 + ova', '13 tập')\n",
        "data['duration'] = data['duration'].replace('4/4 + ova', '5 tập')\n",
        "data['duration'] = data['duration'].replace('26/26 + 2 sp + 7 ngoại truyện', '35 tập')\n",
        "data['duration'] = data['duration'].replace('11/11 + sp', '13 tập')\n",
        "data['duration'] = data['duration'].replace('08 bd/70', '70 tập')\n",
        "data['duration'] = data['duration'].replace('12/12 + 2 ova', '14 tập')\n",
        "data['duration'] = data['duration'].replace('12 + 2 ova/12', '13 tập')\n",
        "data['duration'] = data['duration'].replace('12/12 + 04 sp', '16 tập')\n",
        "data['duration'] = data['duration'].replace('chưa biết', 'chưa rõ')\n",
        "data['duration'] = data['duration'].replace('s1 + 13 s2', 'chưa rõ')\n",
        "data['duration'] = data['duration'].replace('s1 + ova', 'chưa rõ')\n",
        "data['duration'] = data['duration'].replace('11/11+ova', '12 tập')\n",
        "data['duration'] = data['duration'].replace('24/24+ova', '25 tập')"
      ],
      "metadata": {
        "id": "JFQiyHl-lK1x"
      },
      "execution_count": null,
      "outputs": []
    },
    {
      "cell_type": "code",
      "source": [
        "def convert_to_episode(x):\n",
        "    value = ''\n",
        "    if ('/' in x):\n",
        "        if '?' in x:\n",
        "            value = 'chưa rõ'\n",
        "        else:\n",
        "            x = x.split('/')\n",
        "            value = x[1] + ' tập'\n",
        "    else:\n",
        "        value = x\n",
        "    return value"
      ],
      "metadata": {
        "id": "PU14OhviiQ6M"
      },
      "execution_count": null,
      "outputs": []
    },
    {
      "cell_type": "code",
      "source": [
        "data['duration'] = data['duration'].apply(lambda x: convert_to_episode(x))"
      ],
      "metadata": {
        "id": "zdsNqtxRfqiO"
      },
      "execution_count": null,
      "outputs": []
    },
    {
      "cell_type": "code",
      "source": [
        "for x in data['duration']:\n",
        "    if ('tập' not in x) & ('phút' not in x) & ('full' not in x) & (x != 'chưa rõ'):\n",
        "        print(x)\n",
        "        print('\\n')"
      ],
      "metadata": {
        "colab": {
          "base_uri": "https://localhost:8080/"
        },
        "id": "Eyr4dTqhmJmF",
        "outputId": "90371a57-2491-4bcb-a909-0802e1af1678"
      },
      "execution_count": null,
      "outputs": [
        {
          "output_type": "stream",
          "name": "stdout",
          "text": [
            "12\n",
            "\n",
            "\n",
            "26\n",
            "\n",
            "\n",
            "26\n",
            "\n",
            "\n",
            "13\n",
            "\n",
            "\n",
            "13\n",
            "\n",
            "\n",
            "01\n",
            "\n",
            "\n",
            "12\n",
            "\n",
            "\n"
          ]
        }
      ]
    },
    {
      "cell_type": "code",
      "source": [
        "data['duration'] = data['duration'].replace('12', '12 tập')\n",
        "data['duration'] = data['duration'].replace('26', '26 tập')\n",
        "data['duration'] = data['duration'].replace('13', '13 tập')\n",
        "data['duration'] = data['duration'].replace('01', '1 tập')"
      ],
      "metadata": {
        "id": "dhx6bWt_rBpK"
      },
      "execution_count": null,
      "outputs": []
    },
    {
      "cell_type": "code",
      "source": [
        "data.head()"
      ],
      "metadata": {
        "colab": {
          "base_uri": "https://localhost:8080/",
          "height": 527
        },
        "id": "SI2Tt4fUrRkn",
        "outputId": "ab677da7-8a52-4266-d4e2-40f18ae75ecb"
      },
      "execution_count": null,
      "outputs": [
        {
          "output_type": "execute_result",
          "data": {
            "text/plain": [
              "                                       name  \\\n",
              "0                            Dark Gathering   \n",
              "1                          Trò Chơi Nói Dối   \n",
              "2                           Horimiya: Piece   \n",
              "3                                    Temple   \n",
              "4  Tôi Có Thực Sự Là Người Mạnh Nhất Không?   \n",
              "\n",
              "                                         description  voting duration    view  \\\n",
              "0  Keitarou, chàng trai có khả năng thu hút ma qu...    0.95   25 tập   36088   \n",
              "1  Đảo học viện, nơi các học sinh mở ra những trậ...    0.94   12 tập  173964   \n",
              "2  Chuyển thể những phần ở manga bị cắt trong TV ...    0.91   13 tập  584019   \n",
              "3  Đúng vậy. Tôi sẽ trở thành một nhà sư! Không b...    0.97   12 tập   86385   \n",
              "4  Một thanh niên bị bắt nạt được tái sinh ở thế ...    0.89   12 tập  555460   \n",
              "\n",
              "            status                                              genre  \\\n",
              "0  Phim đang chiếu                    [Shounen, Supernatural, Horror]   \n",
              "1  Phim đang chiếu  [Sci-Fi, School, Romance, Psychological, Game,...   \n",
              "2  Phim đang chiếu  [Shounen, School, Romance, Slice of Life, Comedy]   \n",
              "3  Phim đang chiếu     [Romance, Slice of Life, Harem, Ecchi, Comedy]   \n",
              "4  Phim đang chiếu     [Shounen, Romance, Fantasy, Comedy, Adventure]   \n",
              "\n",
              "           director   country  follower quality  \\\n",
              "0   Hiroshi Ikehata  Nhật Bản        34      HD   \n",
              "1       Oono Satoru  Nhật Bản       222      HD   \n",
              "2  Ishihama Masashi  Nhật Bản       497      HD   \n",
              "3      Koga Kazuomi  Nhật Bản       139      HD   \n",
              "4     Naoya Takashi  Nhật Bản       643      HD   \n",
              "\n",
              "                          rating                studio  season  year      type  \n",
              "0   R - 17+ (bạo lực và tục tĩu)                   OLM  Mùa Hạ  2023  Anime bộ  \n",
              "1  PG-13 - Teens 13 tuổi trở lên             GEEK TOYS  Mùa Hạ  2023  Anime bộ  \n",
              "2  PG-13 - Teens 13 tuổi trở lên           CloverWorks  Mùa Hạ  2023  Anime bộ  \n",
              "3  PG-13 - Teens 13 tuổi trở lên                Gekkou  Mùa Hạ  2023  Anime bộ  \n",
              "4  PG-13 - Teens 13 tuổi trở lên  Staple Entertainment  Mùa Hạ  2023  Anime bộ  "
            ],
            "text/html": [
              "\n",
              "\n",
              "  <div id=\"df-56c4fc3a-a0ef-49d8-9d98-c8a7445a3707\">\n",
              "    <div class=\"colab-df-container\">\n",
              "      <div>\n",
              "<style scoped>\n",
              "    .dataframe tbody tr th:only-of-type {\n",
              "        vertical-align: middle;\n",
              "    }\n",
              "\n",
              "    .dataframe tbody tr th {\n",
              "        vertical-align: top;\n",
              "    }\n",
              "\n",
              "    .dataframe thead th {\n",
              "        text-align: right;\n",
              "    }\n",
              "</style>\n",
              "<table border=\"1\" class=\"dataframe\">\n",
              "  <thead>\n",
              "    <tr style=\"text-align: right;\">\n",
              "      <th></th>\n",
              "      <th>name</th>\n",
              "      <th>description</th>\n",
              "      <th>voting</th>\n",
              "      <th>duration</th>\n",
              "      <th>view</th>\n",
              "      <th>status</th>\n",
              "      <th>genre</th>\n",
              "      <th>director</th>\n",
              "      <th>country</th>\n",
              "      <th>follower</th>\n",
              "      <th>quality</th>\n",
              "      <th>rating</th>\n",
              "      <th>studio</th>\n",
              "      <th>season</th>\n",
              "      <th>year</th>\n",
              "      <th>type</th>\n",
              "    </tr>\n",
              "  </thead>\n",
              "  <tbody>\n",
              "    <tr>\n",
              "      <th>0</th>\n",
              "      <td>Dark Gathering</td>\n",
              "      <td>Keitarou, chàng trai có khả năng thu hút ma qu...</td>\n",
              "      <td>0.95</td>\n",
              "      <td>25 tập</td>\n",
              "      <td>36088</td>\n",
              "      <td>Phim đang chiếu</td>\n",
              "      <td>[Shounen, Supernatural, Horror]</td>\n",
              "      <td>Hiroshi Ikehata</td>\n",
              "      <td>Nhật Bản</td>\n",
              "      <td>34</td>\n",
              "      <td>HD</td>\n",
              "      <td>R - 17+ (bạo lực và tục tĩu)</td>\n",
              "      <td>OLM</td>\n",
              "      <td>Mùa Hạ</td>\n",
              "      <td>2023</td>\n",
              "      <td>Anime bộ</td>\n",
              "    </tr>\n",
              "    <tr>\n",
              "      <th>1</th>\n",
              "      <td>Trò Chơi Nói Dối</td>\n",
              "      <td>Đảo học viện, nơi các học sinh mở ra những trậ...</td>\n",
              "      <td>0.94</td>\n",
              "      <td>12 tập</td>\n",
              "      <td>173964</td>\n",
              "      <td>Phim đang chiếu</td>\n",
              "      <td>[Sci-Fi, School, Romance, Psychological, Game,...</td>\n",
              "      <td>Oono Satoru</td>\n",
              "      <td>Nhật Bản</td>\n",
              "      <td>222</td>\n",
              "      <td>HD</td>\n",
              "      <td>PG-13 - Teens 13 tuổi trở lên</td>\n",
              "      <td>GEEK TOYS</td>\n",
              "      <td>Mùa Hạ</td>\n",
              "      <td>2023</td>\n",
              "      <td>Anime bộ</td>\n",
              "    </tr>\n",
              "    <tr>\n",
              "      <th>2</th>\n",
              "      <td>Horimiya: Piece</td>\n",
              "      <td>Chuyển thể những phần ở manga bị cắt trong TV ...</td>\n",
              "      <td>0.91</td>\n",
              "      <td>13 tập</td>\n",
              "      <td>584019</td>\n",
              "      <td>Phim đang chiếu</td>\n",
              "      <td>[Shounen, School, Romance, Slice of Life, Comedy]</td>\n",
              "      <td>Ishihama Masashi</td>\n",
              "      <td>Nhật Bản</td>\n",
              "      <td>497</td>\n",
              "      <td>HD</td>\n",
              "      <td>PG-13 - Teens 13 tuổi trở lên</td>\n",
              "      <td>CloverWorks</td>\n",
              "      <td>Mùa Hạ</td>\n",
              "      <td>2023</td>\n",
              "      <td>Anime bộ</td>\n",
              "    </tr>\n",
              "    <tr>\n",
              "      <th>3</th>\n",
              "      <td>Temple</td>\n",
              "      <td>Đúng vậy. Tôi sẽ trở thành một nhà sư! Không b...</td>\n",
              "      <td>0.97</td>\n",
              "      <td>12 tập</td>\n",
              "      <td>86385</td>\n",
              "      <td>Phim đang chiếu</td>\n",
              "      <td>[Romance, Slice of Life, Harem, Ecchi, Comedy]</td>\n",
              "      <td>Koga Kazuomi</td>\n",
              "      <td>Nhật Bản</td>\n",
              "      <td>139</td>\n",
              "      <td>HD</td>\n",
              "      <td>PG-13 - Teens 13 tuổi trở lên</td>\n",
              "      <td>Gekkou</td>\n",
              "      <td>Mùa Hạ</td>\n",
              "      <td>2023</td>\n",
              "      <td>Anime bộ</td>\n",
              "    </tr>\n",
              "    <tr>\n",
              "      <th>4</th>\n",
              "      <td>Tôi Có Thực Sự Là Người Mạnh Nhất Không?</td>\n",
              "      <td>Một thanh niên bị bắt nạt được tái sinh ở thế ...</td>\n",
              "      <td>0.89</td>\n",
              "      <td>12 tập</td>\n",
              "      <td>555460</td>\n",
              "      <td>Phim đang chiếu</td>\n",
              "      <td>[Shounen, Romance, Fantasy, Comedy, Adventure]</td>\n",
              "      <td>Naoya Takashi</td>\n",
              "      <td>Nhật Bản</td>\n",
              "      <td>643</td>\n",
              "      <td>HD</td>\n",
              "      <td>PG-13 - Teens 13 tuổi trở lên</td>\n",
              "      <td>Staple Entertainment</td>\n",
              "      <td>Mùa Hạ</td>\n",
              "      <td>2023</td>\n",
              "      <td>Anime bộ</td>\n",
              "    </tr>\n",
              "  </tbody>\n",
              "</table>\n",
              "</div>\n",
              "      <button class=\"colab-df-convert\" onclick=\"convertToInteractive('df-56c4fc3a-a0ef-49d8-9d98-c8a7445a3707')\"\n",
              "              title=\"Convert this dataframe to an interactive table.\"\n",
              "              style=\"display:none;\">\n",
              "\n",
              "  <svg xmlns=\"http://www.w3.org/2000/svg\" height=\"24px\"viewBox=\"0 0 24 24\"\n",
              "       width=\"24px\">\n",
              "    <path d=\"M0 0h24v24H0V0z\" fill=\"none\"/>\n",
              "    <path d=\"M18.56 5.44l.94 2.06.94-2.06 2.06-.94-2.06-.94-.94-2.06-.94 2.06-2.06.94zm-11 1L8.5 8.5l.94-2.06 2.06-.94-2.06-.94L8.5 2.5l-.94 2.06-2.06.94zm10 10l.94 2.06.94-2.06 2.06-.94-2.06-.94-.94-2.06-.94 2.06-2.06.94z\"/><path d=\"M17.41 7.96l-1.37-1.37c-.4-.4-.92-.59-1.43-.59-.52 0-1.04.2-1.43.59L10.3 9.45l-7.72 7.72c-.78.78-.78 2.05 0 2.83L4 21.41c.39.39.9.59 1.41.59.51 0 1.02-.2 1.41-.59l7.78-7.78 2.81-2.81c.8-.78.8-2.07 0-2.86zM5.41 20L4 18.59l7.72-7.72 1.47 1.35L5.41 20z\"/>\n",
              "  </svg>\n",
              "      </button>\n",
              "\n",
              "\n",
              "\n",
              "    <div id=\"df-8a1c0a92-06dd-4313-8325-fc7edcdaf954\">\n",
              "      <button class=\"colab-df-quickchart\" onclick=\"quickchart('df-8a1c0a92-06dd-4313-8325-fc7edcdaf954')\"\n",
              "              title=\"Suggest charts.\"\n",
              "              style=\"display:none;\">\n",
              "\n",
              "<svg xmlns=\"http://www.w3.org/2000/svg\" height=\"24px\"viewBox=\"0 0 24 24\"\n",
              "     width=\"24px\">\n",
              "    <g>\n",
              "        <path d=\"M19 3H5c-1.1 0-2 .9-2 2v14c0 1.1.9 2 2 2h14c1.1 0 2-.9 2-2V5c0-1.1-.9-2-2-2zM9 17H7v-7h2v7zm4 0h-2V7h2v10zm4 0h-2v-4h2v4z\"/>\n",
              "    </g>\n",
              "</svg>\n",
              "      </button>\n",
              "    </div>\n",
              "\n",
              "<style>\n",
              "  .colab-df-quickchart {\n",
              "    background-color: #E8F0FE;\n",
              "    border: none;\n",
              "    border-radius: 50%;\n",
              "    cursor: pointer;\n",
              "    display: none;\n",
              "    fill: #1967D2;\n",
              "    height: 32px;\n",
              "    padding: 0 0 0 0;\n",
              "    width: 32px;\n",
              "  }\n",
              "\n",
              "  .colab-df-quickchart:hover {\n",
              "    background-color: #E2EBFA;\n",
              "    box-shadow: 0px 1px 2px rgba(60, 64, 67, 0.3), 0px 1px 3px 1px rgba(60, 64, 67, 0.15);\n",
              "    fill: #174EA6;\n",
              "  }\n",
              "\n",
              "  [theme=dark] .colab-df-quickchart {\n",
              "    background-color: #3B4455;\n",
              "    fill: #D2E3FC;\n",
              "  }\n",
              "\n",
              "  [theme=dark] .colab-df-quickchart:hover {\n",
              "    background-color: #434B5C;\n",
              "    box-shadow: 0px 1px 3px 1px rgba(0, 0, 0, 0.15);\n",
              "    filter: drop-shadow(0px 1px 2px rgba(0, 0, 0, 0.3));\n",
              "    fill: #FFFFFF;\n",
              "  }\n",
              "</style>\n",
              "\n",
              "    <script>\n",
              "      async function quickchart(key) {\n",
              "        const containerElement = document.querySelector('#' + key);\n",
              "        const charts = await google.colab.kernel.invokeFunction(\n",
              "            'suggestCharts', [key], {});\n",
              "      }\n",
              "    </script>\n",
              "\n",
              "      <script>\n",
              "\n",
              "function displayQuickchartButton(domScope) {\n",
              "  let quickchartButtonEl =\n",
              "    domScope.querySelector('#df-8a1c0a92-06dd-4313-8325-fc7edcdaf954 button.colab-df-quickchart');\n",
              "  quickchartButtonEl.style.display =\n",
              "    google.colab.kernel.accessAllowed ? 'block' : 'none';\n",
              "}\n",
              "\n",
              "        displayQuickchartButton(document);\n",
              "      </script>\n",
              "      <style>\n",
              "    .colab-df-container {\n",
              "      display:flex;\n",
              "      flex-wrap:wrap;\n",
              "      gap: 12px;\n",
              "    }\n",
              "\n",
              "    .colab-df-convert {\n",
              "      background-color: #E8F0FE;\n",
              "      border: none;\n",
              "      border-radius: 50%;\n",
              "      cursor: pointer;\n",
              "      display: none;\n",
              "      fill: #1967D2;\n",
              "      height: 32px;\n",
              "      padding: 0 0 0 0;\n",
              "      width: 32px;\n",
              "    }\n",
              "\n",
              "    .colab-df-convert:hover {\n",
              "      background-color: #E2EBFA;\n",
              "      box-shadow: 0px 1px 2px rgba(60, 64, 67, 0.3), 0px 1px 3px 1px rgba(60, 64, 67, 0.15);\n",
              "      fill: #174EA6;\n",
              "    }\n",
              "\n",
              "    [theme=dark] .colab-df-convert {\n",
              "      background-color: #3B4455;\n",
              "      fill: #D2E3FC;\n",
              "    }\n",
              "\n",
              "    [theme=dark] .colab-df-convert:hover {\n",
              "      background-color: #434B5C;\n",
              "      box-shadow: 0px 1px 3px 1px rgba(0, 0, 0, 0.15);\n",
              "      filter: drop-shadow(0px 1px 2px rgba(0, 0, 0, 0.3));\n",
              "      fill: #FFFFFF;\n",
              "    }\n",
              "  </style>\n",
              "\n",
              "      <script>\n",
              "        const buttonEl =\n",
              "          document.querySelector('#df-56c4fc3a-a0ef-49d8-9d98-c8a7445a3707 button.colab-df-convert');\n",
              "        buttonEl.style.display =\n",
              "          google.colab.kernel.accessAllowed ? 'block' : 'none';\n",
              "\n",
              "        async function convertToInteractive(key) {\n",
              "          const element = document.querySelector('#df-56c4fc3a-a0ef-49d8-9d98-c8a7445a3707');\n",
              "          const dataTable =\n",
              "            await google.colab.kernel.invokeFunction('convertToInteractive',\n",
              "                                                     [key], {});\n",
              "          if (!dataTable) return;\n",
              "\n",
              "          const docLinkHtml = 'Like what you see? Visit the ' +\n",
              "            '<a target=\"_blank\" href=https://colab.research.google.com/notebooks/data_table.ipynb>data table notebook</a>'\n",
              "            + ' to learn more about interactive tables.';\n",
              "          element.innerHTML = '';\n",
              "          dataTable['output_type'] = 'display_data';\n",
              "          await google.colab.output.renderOutput(dataTable, element);\n",
              "          const docLink = document.createElement('div');\n",
              "          docLink.innerHTML = docLinkHtml;\n",
              "          element.appendChild(docLink);\n",
              "        }\n",
              "      </script>\n",
              "    </div>\n",
              "  </div>\n"
            ]
          },
          "metadata": {},
          "execution_count": 96
        }
      ]
    },
    {
      "cell_type": "code",
      "source": [
        "data.to_csv('anime_cleaned.csv', encoding = 'utf-8-sig')"
      ],
      "metadata": {
        "id": "Cdzf58LPrSy2"
      },
      "execution_count": null,
      "outputs": []
    }
  ]
}